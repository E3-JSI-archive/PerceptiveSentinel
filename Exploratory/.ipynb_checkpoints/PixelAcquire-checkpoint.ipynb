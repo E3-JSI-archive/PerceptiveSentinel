{
 "cells": [
  {
   "cell_type": "code",
   "execution_count": 1,
   "metadata": {
    "collapsed": true
   },
   "outputs": [],
   "source": [
    "INSTANCE_ID = \"b1062c36-3d9a-4df5-ad3d-ab0d40ae3ca0\""
   ]
  },
  {
   "cell_type": "code",
   "execution_count": 2,
   "metadata": {
    "collapsed": true
   },
   "outputs": [],
   "source": [
    "%reload_ext autoreload\n",
    "%autoreload 2\n",
    "%matplotlib inline"
   ]
  },
  {
   "cell_type": "code",
   "execution_count": 3,
   "metadata": {
    "collapsed": true
   },
   "outputs": [],
   "source": [
    "import matplotlib.pyplot as plt\n",
    "import numpy as np"
   ]
  },
  {
   "cell_type": "code",
   "execution_count": 4,
   "metadata": {},
   "outputs": [
    {
     "ename": "ModuleNotFoundError",
     "evalue": "No module named 'sentinelhub'",
     "output_type": "error",
     "traceback": [
      "\u001b[1;31m---------------------------------------------------------------------------\u001b[0m",
      "\u001b[1;31mModuleNotFoundError\u001b[0m                       Traceback (most recent call last)",
      "\u001b[1;32m<ipython-input-4-359eb7356a9d>\u001b[0m in \u001b[0;36m<module>\u001b[1;34m()\u001b[0m\n\u001b[1;32m----> 1\u001b[1;33m \u001b[1;32mfrom\u001b[0m \u001b[0msentinelhub\u001b[0m\u001b[1;33m.\u001b[0m\u001b[0mdata_request\u001b[0m \u001b[1;32mimport\u001b[0m \u001b[0mWmsRequest\u001b[0m\u001b[1;33m,\u001b[0m \u001b[0mWcsRequest\u001b[0m\u001b[1;33m\u001b[0m\u001b[0m\n\u001b[0m\u001b[0;32m      2\u001b[0m \u001b[1;32mfrom\u001b[0m \u001b[0msentinelhub\u001b[0m\u001b[1;33m.\u001b[0m\u001b[0mconstants\u001b[0m \u001b[1;32mimport\u001b[0m \u001b[0mMimeType\u001b[0m\u001b[1;33m,\u001b[0m \u001b[0mCustomUrlParam\u001b[0m\u001b[1;33m\u001b[0m\u001b[0m\n\u001b[0;32m      3\u001b[0m \u001b[1;32mfrom\u001b[0m \u001b[0msentinelhub\u001b[0m\u001b[1;33m.\u001b[0m\u001b[0mcommon\u001b[0m \u001b[1;32mimport\u001b[0m \u001b[0mBBox\u001b[0m\u001b[1;33m,\u001b[0m \u001b[0mCRS\u001b[0m \u001b[1;31m# Different than in examples\u001b[0m\u001b[1;33m\u001b[0m\u001b[0m\n\u001b[0;32m      4\u001b[0m \u001b[1;32mfrom\u001b[0m \u001b[0msentinelhub\u001b[0m \u001b[1;32mimport\u001b[0m \u001b[0mCustomUrlParam\u001b[0m\u001b[1;33m\u001b[0m\u001b[0m\n",
      "\u001b[1;31mModuleNotFoundError\u001b[0m: No module named 'sentinelhub'"
     ]
    }
   ],
   "source": [
    "from sentinelhub.data_request import WmsRequest, WcsRequest\n",
    "from sentinelhub.constants import MimeType, CustomUrlParam\n",
    "from sentinelhub.common import BBox, CRS # Different than in examples\n",
    "from sentinelhub import CustomUrlParam"
   ]
  },
  {
   "cell_type": "code",
   "execution_count": 5,
   "metadata": {
    "collapsed": true
   },
   "outputs": [],
   "source": [
    "import datetime\n",
    "end_time = datetime.datetime.now().strftime('%Y-%m-%d')\n",
    "start_time = '2017-12-01'"
   ]
  },
  {
   "cell_type": "code",
   "execution_count": 6,
   "metadata": {
    "collapsed": true
   },
   "outputs": [],
   "source": [
    "def plot_image(data, factor=1./255):\n",
    "    \"\"\"\n",
    "    Utility function for plotting RGB images. The numpy arrays returned by the WMS and WCS requests have channels\n",
    "    ordered as Blue (`B02`), Green (`B03`), and Red (`B04`) therefore the order has to be reversed before ploting \n",
    "    the image.\n",
    "    \"\"\"\n",
    "    fig = plt.subplots(nrows=1, ncols=1, figsize=(15, 7))\n",
    "    rgb = data.astype(np.float32)\n",
    "    if len(rgb.shape) == 3 and rgb.shape[2] == 3:\n",
    "        rgb = rgb[..., [2, 1, 0]]\n",
    "    plt.imshow(rgb * factor)"
   ]
  },
  {
   "cell_type": "code",
   "execution_count": 7,
   "metadata": {
    "collapsed": true
   },
   "outputs": [],
   "source": [
    "fmf_box = [46.042,14.487, 46.043,14.488]\n",
    "fmf_box = BBox(bbox=fmf_box, crs=CRS.WGS84)"
   ]
  },
  {
   "cell_type": "code",
   "execution_count": 15,
   "metadata": {
    "collapsed": true
   },
   "outputs": [],
   "source": [
    "cloud_detect_url = 'https://raw.githubusercontent.com/sentinel-hub/custom-scripts/master/sentinel-2/cby_cloud_detection/script.js'\n",
    "trim_cloud_detect_url = 'https://raw.githubusercontent.com/jO-Osko/cloudDetector/master/cd.js'\n",
    "                \n",
    "data_request_orig = WmsRequest(layer='AGRICULTURE', data_folder='data/',\n",
    "                          bbox=fmf_box,\n",
    "                          time=(start_time, end_time),\n",
    "                          width=10, instance_id=INSTANCE_ID, \n",
    "                          custom_url_params={CustomUrlParam.SHOWLOGO: False}\n",
    "                              )\n",
    "    \n",
    "data_request_cloud = WmsRequest(layer='AGRICULTURE', data_folder='data/',\n",
    "                          bbox=fmf_box,\n",
    "                          time=(start_time, end_time),\n",
    "                          width=10, instance_id=INSTANCE_ID, \n",
    "                          custom_url_params={CustomUrlParam.SHOWLOGO: False, \n",
    "                                             CustomUrlParam.EVALSCRIPTURL: cloud_detect_url}\n",
    "                              )\n",
    "\n",
    "data_request_trim = WmsRequest(layer='AGRICULTURE', data_folder='data/',\n",
    "                          bbox=fmf_box,\n",
    "                          time=(start_time, end_time),\n",
    "                          width=10, instance_id=INSTANCE_ID, \n",
    "                          custom_url_params={CustomUrlParam.SHOWLOGO: False, \n",
    "                                             CustomUrlParam.EVALSCRIPTURL: trim_cloud_detect_url}\n",
    "                             )\n",
    "\n",
    "data_imgs_orig = data_request_orig.save_data()\n",
    "data_imgs_cloud = data_request_cloud.save_data()\n",
    "data_imgs_trim = data_request_trim.save_data()"
   ]
  },
  {
   "cell_type": "code",
   "execution_count": 16,
   "metadata": {
    "collapsed": true
   },
   "outputs": [],
   "source": [
    "data_imgs_orig = data_request_orig.get_data()\n",
    "data_imgs_cloud = data_request_cloud.get_data()\n",
    "data_imgs_trim = data_request_trim.get_data()"
   ]
  },
  {
   "cell_type": "code",
   "execution_count": 14,
   "metadata": {},
   "outputs": [
    {
     "data": {
      "image/png": "[encoded data removed]",
      "text/plain": [
       "<matplotlib.figure.Figure at 0x11d5921d0>"
      ]
     },
     "metadata": {},
     "output_type": "display_data"
    },
    {
     "data": {
      "image/png": "[encoded data removed]",
      "text/plain": [
       "<matplotlib.figure.Figure at 0x120dbfda0>"
      ]
     },
     "metadata": {},
     "output_type": "display_data"
    },
    {
     "data": {
      "image/png": "[encoded data removed]",
      "text/plain": [
       "<matplotlib.figure.Figure at 0x120dad438>"
      ]
     },
     "metadata": {},
     "output_type": "display_data"
    }
   ],
   "source": [
    "y_ind, x_ind = 0,6 # Pick indices\n",
    "band = 3 # Pick band\n",
    "arr_orig = np.array([[img[x_ind][y_ind] for img in data_imgs_orig]])\n",
    "plot_image(arr_orig)\n",
    "\n",
    "arr_cloud = np.array([[img[x_ind][y_ind] for img in data_imgs_cloud]])\n",
    "plot_image(arr_cloud)\n",
    "\n",
    "# Black ones are classified as clouds (in any way)\n",
    "arr_trim = np.array([[img[x_ind][y_ind] for img in data_imgs_trim]])\n",
    "plot_image(arr_trim)"
   ]
  },
  {
   "cell_type": "code",
   "execution_count": 17,
   "metadata": {},
   "outputs": [
    {
     "data": {
      "image/png": "[encoded data removed]",
      "text/plain": [
       "<matplotlib.figure.Figure at 0x1211baf60>"
      ]
     },
     "metadata": {},
     "output_type": "display_data"
    },
    {
     "data": {
      "image/png": "[encoded data removed]",
      "text/plain": [
       "<matplotlib.figure.Figure at 0x1226f7550>"
      ]
     },
     "metadata": {},
     "output_type": "display_data"
    },
    {
     "data": {
      "image/png": "[encoded data removed]",
      "text/plain": [
       "<matplotlib.figure.Figure at 0x1227165c0>"
      ]
     },
     "metadata": {},
     "output_type": "display_data"
    }
   ],
   "source": [
    "y_ind, x_ind = 0,6 # Pick indices\n",
    "band = 3 # Pick band\n",
    "arr_orig = np.array([[img[x_ind][y_ind] for img in data_imgs_orig]])\n",
    "plot_image(arr_orig)\n",
    "\n",
    "arr_cloud = np.array([[img[x_ind][y_ind] for img in data_imgs_cloud]])\n",
    "plot_image(arr_cloud)\n",
    "\n",
    "# Black ones are classified as clouds (in any way)\n",
    "arr_trim = np.array([[img[x_ind][y_ind] for img in data_imgs_trim]])\n",
    "plot_image(arr_trim)"
   ]
  },
  {
   "cell_type": "code",
   "execution_count": null,
   "metadata": {
    "collapsed": true
   },
   "outputs": [],
   "source": []
  }
 ],
 "metadata": {
  "kernelspec": {
   "display_name": "Python 3",
   "language": "python",
   "name": "python3"
  },
  "language_info": {
   "codemirror_mode": {
    "name": "ipython",
    "version": 3
   },
   "file_extension": ".py",
   "mimetype": "text/x-python",
   "name": "python",
   "nbconvert_exporter": "python",
   "pygments_lexer": "ipython3",
   "version": "3.6.1"
  }
 },
 "nbformat": 4,
 "nbformat_minor": 2
}
