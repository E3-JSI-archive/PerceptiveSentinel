{
 "cells": [
  {
   "cell_type": "code",
   "execution_count": 1,
   "metadata": {},
   "outputs": [
    {
     "ename": "FileNotFoundError",
     "evalue": "[Errno 2] No such file or directory: 'INSTANCE_ID'",
     "traceback": [
      "\u001b[0;31m---------------------------------------------------------------------------\u001b[0m",
      "\u001b[0;31mFileNotFoundError\u001b[0m                         Traceback (most recent call last)",
      "\u001b[0;32m<ipython-input-1-1972211967b3>\u001b[0m in \u001b[0;36m<module>\u001b[0;34m()\u001b[0m\n\u001b[0;32m----> 1\u001b[0;31m \u001b[0mINSTANCE_ID\u001b[0m \u001b[0;34m=\u001b[0m \u001b[0mopen\u001b[0m\u001b[0;34m(\u001b[0m\u001b[0;34m\"INSTANCE_ID\"\u001b[0m\u001b[0;34m)\u001b[0m\u001b[0;34m.\u001b[0m\u001b[0mread\u001b[0m\u001b[0;34m(\u001b[0m\u001b[0;34m)\u001b[0m\u001b[0;34m\u001b[0m\u001b[0m\n\u001b[0m",
      "\u001b[0;31mFileNotFoundError\u001b[0m: [Errno 2] No such file or directory: 'INSTANCE_ID'"
     ],
     "output_type": "error"
    }
   ],
   "source": [
    "INSTANCE_ID = open(\"INSTANCE_ID\").read()"
   ]
  },
  {
   "cell_type": "code",
   "execution_count": 2,
   "metadata": {},
   "outputs": [],
   "source": [
    "%reload_ext autoreload\n",
    "%autoreload 2\n",
    "%matplotlib inline"
   ]
  },
  {
   "cell_type": "code",
   "execution_count": 3,
   "metadata": {},
   "outputs": [],
   "source": [
    "import matplotlib.pyplot as plt\n",
    "import numpy as np"
   ]
  },
  {
   "cell_type": "code",
   "execution_count": 4,
   "metadata": {},
   "outputs": [
    {
     "name": "stderr",
     "output_type": "stream",
     "text": [
      "/Users/joosko/work/ijs/ml/SentinelHub/venv/lib/python3.6/site-packages/tifffile/tifffile.py:7685: UserWarning: No module named 'tifffile._tifffile'\n",
      "  Functionality might be degraded or be slow.\n",
      "\n",
      "  warnings.warn('%s%s' % (e, warn))\n"
     ]
    }
   ],
   "source": [
    "from sentinelhub.data_request import WmsRequest, WcsRequest\n",
    "from sentinelhub.constants import MimeType, CustomUrlParam\n",
    "from sentinelhub.common import BBox, CRS # Different than in examples\n",
    "from sentinelhub import CustomUrlParam"
   ]
  },
  {
   "cell_type": "code",
   "execution_count": 5,
   "metadata": {},
   "outputs": [],
   "source": [
    "import datetime\n",
    "end_time = datetime.datetime.now().strftime('%Y-%m-%d')\n",
    "start_time = '2017-12-01'"
   ]
  },
  {
   "cell_type": "code",
   "execution_count": 6,
   "metadata": {},
   "outputs": [],
   "source": [
    "def plot_image(data, factor=1./255):\n",
    "    \"\"\"\n",
    "    Utility function for plotting RGB images. The numpy arrays returned by the WMS and WCS requests have channels\n",
    "    ordered as Blue (`B02`), Green (`B03`), and Red (`B04`) therefore the order has to be reversed before ploting \n",
    "    the image.\n",
    "    \"\"\"\n",
    "    fig = plt.subplots(nrows=1, ncols=1, figsize=(15, 7))\n",
    "    rgb = data.astype(np.float32)\n",
    "    if len(rgb.shape) == 3 and rgb.shape[2] == 3:\n",
    "        rgb = rgb[..., [2, 1, 0]]\n",
    "    plt.imshow(rgb * factor)"
   ]
  },
  {
   "cell_type": "code",
   "execution_count": 7,
   "metadata": {},
   "outputs": [],
   "source": [
    "fmf_box = [46.042,14.487, 46.043,14.488]\n",
    "fmf_box = BBox(bbox=fmf_box, crs=CRS.WGS84)"
   ]
  },
  {
   "cell_type": "code",
   "execution_count": 27,
   "metadata": {},
   "outputs": [],
   "source": [
    "cloud_detect_url = 'https://raw.githubusercontent.com/sentinel-hub/custom-scripts/master/sentinel-2/cby_cloud_detection/script.js'\n",
    "trim_cloud_detect_url = 'https://raw.githubusercontent.com/jO-Osko/cloudDetector/master/cd.js'\n",
    "                \n",
    "data_request_orig = WmsRequest(layer='TRUE_COLOR', data_folder='data/',\n",
    "                          bbox=fmf_box,\n",
    "                          time=(start_time, end_time),\n",
    "                          width=10, instance_id=INSTANCE_ID, \n",
    "                          image_format=MimeType.TIFF_d32f,\n",
    "                          custom_url_params={CustomUrlParam.SHOWLOGO: False}\n",
    "                              )\n",
    "    \n",
    "data_request_cloud = WmsRequest(layer='TRUE_COLOR', data_folder='data/',\n",
    "                          bbox=fmf_box,\n",
    "                          time=(start_time, end_time),\n",
    "                          width=10, instance_id=INSTANCE_ID, \n",
    "                          custom_url_params={CustomUrlParam.SHOWLOGO: False, \n",
    "                                             CustomUrlParam.EVALSCRIPTURL: cloud_detect_url}\n",
    "                              )\n",
    "\n",
    "data_request_trim = WmsRequest(layer='TRUE_COLOR', data_folder='data/',\n",
    "                          bbox=fmf_box,\n",
    "                          time=(start_time, end_time),\n",
    "                          width=10, instance_id=INSTANCE_ID, \n",
    "                          custom_url_params={CustomUrlParam.SHOWLOGO: False, \n",
    "                                             CustomUrlParam.EVALSCRIPTURL: trim_cloud_detect_url}\n",
    "                             )\n",
    "\n",
    "data_imgs_orig = data_request_orig.save_data()\n",
    "data_imgs_cloud = data_request_cloud.save_data()\n",
    "data_imgs_trim = data_request_trim.save_data()"
   ]
  },
  {
   "cell_type": "code",
   "execution_count": 28,
   "metadata": {},
   "outputs": [],
   "source": [
    "data_imgs_orig = data_request_orig.get_data()\n",
    "data_imgs_cloud = data_request_cloud.get_data()\n",
    "data_imgs_trim = data_request_trim.get_data()"
   ]
  },
  {
   "cell_type": "code",
   "execution_count": 42,
   "metadata": {},
   "outputs": [
    {
     "data": {
      "image/png": "[encoded data removed]",
      "text/plain": [
       "<matplotlib.figure.Figure at 0x1211ea828>"
      ]
     },
     "metadata": {},
     "output_type": "display_data"
    },
    {
     "data": {
      "image/png": "[encoded data removed]",
      "text/plain": [
       "<matplotlib.figure.Figure at 0x121166f28>"
      ]
     },
     "metadata": {},
     "output_type": "display_data"
    },
    {
     "data": {
      "image/png": "[encoded data removed]",
      "text/plain": [
       "<matplotlib.figure.Figure at 0x11cbbaa20>"
      ]
     },
     "metadata": {},
     "output_type": "display_data"
    },
    {
     "data": {
      "image/png": "[encoded data removed]",
      "text/plain": [
       "<matplotlib.figure.Figure at 0x120dd5470>"
      ]
     },
     "metadata": {},
     "output_type": "display_data"
    },
    {
     "data": {
      "image/png": "[encoded data removed]",
      "text/plain": [
       "<matplotlib.figure.Figure at 0x1201ab3c8>"
      ]
     },
     "metadata": {},
     "output_type": "display_data"
    },
    {
     "data": {
      "image/png": "[encoded data removed]",
      "text/plain": [
       "<matplotlib.figure.Figure at 0x123674908>"
      ]
     },
     "metadata": {},
     "output_type": "display_data"
    },
    {
     "data": {
      "image/png": "[encoded data removed]",
      "text/plain": [
       "<matplotlib.figure.Figure at 0x123670e80>"
      ]
     },
     "metadata": {},
     "output_type": "display_data"
    },
    {
     "data": {
      "image/png": "[encoded data removed]",
      "text/plain": [
       "<matplotlib.figure.Figure at 0x11d272b70>"
      ]
     },
     "metadata": {},
     "output_type": "display_data"
    },
    {
     "data": {
      "image/png": "[encoded data removed]",
      "text/plain": [
       "<matplotlib.figure.Figure at 0x121a5fdd8>"
      ]
     },
     "metadata": {},
     "output_type": "display_data"
    },
    {
     "data": {
      "image/png": "[encoded data removed]",
      "text/plain": [
       "<matplotlib.figure.Figure at 0x10ddfcd30>"
      ]
     },
     "metadata": {},
     "output_type": "display_data"
    },
    {
     "data": {
      "image/png": "[encoded data removed]",
      "text/plain": [
       "<matplotlib.figure.Figure at 0x10de4b940>"
      ]
     },
     "metadata": {},
     "output_type": "display_data"
    },
    {
     "data": {
      "image/png": "[encoded data removed]",
      "text/plain": [
       "<matplotlib.figure.Figure at 0x10dee9630>"
      ]
     },
     "metadata": {},
     "output_type": "display_data"
    },
    {
     "data": {
      "image/png": "[encoded data removed]",
      "text/plain": [
       "<matplotlib.figure.Figure at 0x10deafc88>"
      ]
     },
     "metadata": {},
     "output_type": "display_data"
    },
    {
     "data": {
      "image/png": "[encoded data removed]",
      "text/plain": [
       "<matplotlib.figure.Figure at 0x11d1b70f0>"
      ]
     },
     "metadata": {},
     "output_type": "display_data"
    },
    {
     "data": {
      "image/png": "[encoded data removed]",
      "text/plain": [
       "<matplotlib.figure.Figure at 0x11d1edd68>"
      ]
     },
     "metadata": {},
     "output_type": "display_data"
    }
   ],
   "source": [
    "y_ind, x_ind = 0,6 # Pick indices\n",
    "band = 3 # Pick band\n",
    "for band in range(1,13):\n",
    "    arr_orig = np.array([[img[x_ind][y_ind][band] for img in data_imgs_orig]])\n",
    "    plot_image(arr_orig, 1)\n",
    "   \n",
    "arr_orig = np.array([[img[x_ind][y_ind][1:4] for img in data_imgs_orig]])\n",
    "plot_image(arr_orig, 2.5)\n",
    "\n",
    "arr_cloud = np.array([[img[x_ind][y_ind] for img in data_imgs_cloud]])\n",
    "plot_image(arr_cloud)\n",
    "\n",
    "# Black ones are classified as clouds (in any way)\n",
    "arr_trim = np.array([[img[x_ind][y_ind] for img in data_imgs_trim]])\n",
    "plot_image(arr_trim)"
   ]
  },
  {
   "cell_type": "code",
   "execution_count": 17,
   "metadata": {
    "scrolled": true
   },
   "outputs": [
    {
     "data": {
      "image/png": "[encoded data removed]",
      "text/plain": [
       "<matplotlib.figure.Figure at 0x1211baf60>"
      ]
     },
     "metadata": {},
     "output_type": "display_data"
    },
    {
     "data": {
      "image/png": "[encoded data removed]",
      "text/plain": [
       "<matplotlib.figure.Figure at 0x1226f7550>"
      ]
     },
     "metadata": {},
     "output_type": "display_data"
    },
    {
     "data": {
      "image/png": "[encoded data removed]",
      "text/plain": [
       "<matplotlib.figure.Figure at 0x1227165c0>"
      ]
     },
     "metadata": {},
     "output_type": "display_data"
    }
   ],
   "source": [
    "y_ind, x_ind = 0,6 # Pick indices\n",
    "band = 3 # Pick band\n",
    "arr_orig = np.array([[img[x_ind][y_ind] for img in data_imgs_orig]])\n",
    "plot_image(arr_orig)\n",
    "\n",
    "arr_cloud = np.array([[img[x_ind][y_ind] for img in data_imgs_cloud]])\n",
    "plot_image(arr_cloud)\n",
    "\n",
    "# Black ones are classified as clouds (in any way)\n",
    "arr_trim = np.array([[img[x_ind][y_ind] for img in data_imgs_trim]])\n",
    "plot_image(arr_trim)"
   ]
  },
  {
   "cell_type": "code",
   "execution_count": 45,
   "metadata": {},
   "outputs": [],
   "source": [
    "d_im = np.array(data_imgs_trim)"
   ]
  },
  {
   "cell_type": "code",
   "execution_count": 51,
   "metadata": {},
   "outputs": [
    {
     "data": {
      "text/plain": [
       "array([[171, 141, 141],\n",
       "       [ 97,  74,  64],\n",
       "       [  0,   0,   0],\n",
       "       [  0,   0,   0],\n",
       "       [  0,   0,   0],\n",
       "       [187, 166, 183],\n",
       "       [  0,   0,   0],\n",
       "       [140, 104,  90],\n",
       "       [  0,   0,   0],\n",
       "       [  0,   0,   0],\n",
       "       [ 87,  68,  66],\n",
       "       [255, 233, 245],\n",
       "       [  0,   0,   0],\n",
       "       [  0,   0,   0],\n",
       "       [238, 201, 204],\n",
       "       [195, 170, 172],\n",
       "       [  0,   0,   0],\n",
       "       [183, 170, 182]], dtype=uint8)"
      ]
     },
     "execution_count": 51,
     "metadata": {},
     "output_type": "execute_result"
    }
   ],
   "source": [
    "d_trim = np.array(data_imgs_trim)[:,y_ind, x_ind]\n",
    "d_trim"
   ]
  },
  {
   "cell_type": "code",
   "execution_count": null,
   "metadata": {},
   "outputs": [],
   "source": []
  }
 ],
 "metadata": {
  "kernelspec": {
   "display_name": "Python 3",
   "language": "python",
   "name": "python3"
  },
  "language_info": {
   "codemirror_mode": {
    "name": "ipython",
    "version": 3
   },
   "file_extension": ".py",
   "mimetype": "text/x-python",
   "name": "python",
   "nbconvert_exporter": "python",
   "pygments_lexer": "ipython3",
   "version": "3.6.1"
  }
 },
 "nbformat": 4,
 "nbformat_minor": 2
}
