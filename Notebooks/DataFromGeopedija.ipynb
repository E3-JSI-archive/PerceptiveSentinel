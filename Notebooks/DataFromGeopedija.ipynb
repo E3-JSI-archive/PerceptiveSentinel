{
 "cells": [
  {
   "cell_type": "code",
   "execution_count": null,
   "metadata": {},
   "outputs": [],
   "source": [
    "%reload_ext autoreload\n",
    "%autoreload 2\n",
    "%matplotlib inline"
   ]
  },
  {
   "cell_type": "code",
   "execution_count": null,
   "metadata": {},
   "outputs": [],
   "source": [
    "import matplotlib.pyplot as plt\n",
    "import matplotlib as mpl\n",
    "from mpl_toolkits.axes_grid1 import make_axes_locatable\n",
    "\n",
    "import numpy as np\n",
    "import pandas as pd\n",
    "import geopandas as gpd\n",
    "from shapely.geometry import Polygon\n",
    "\n",
    "from sentinelhub import BBoxSplitter, BBox, CRS, CustomUrlParam\n",
    "from eolearn.core import EOTask, EOPatch, LinearWorkflow, EOWorkflow, Dependency, FeatureType, OverwritePermission, LoadFromDisk, SaveToDisk\n",
    "from eolearn.io import S2L1CWCSInput\n",
    "from eolearn.geometry import VectorToRaster\n",
    "\n",
    "import datetime"
   ]
  },
  {
   "cell_type": "code",
   "execution_count": null,
   "metadata": {},
   "outputs": [],
   "source": [
    "from eopatches import get_bbox_splitter, get_bbox_gdf\n",
    "from workflows import get_create_and_add_lpis_workflow\n",
    "from plots import draw_bbox, draw_vector_timeless\n",
    "from utilities import get_slovenia_crop_geopedia_idx_to_crop_id_mapping, get_group_id\n",
    "from tasks import FixLPIS\n"
   ]
  },
  {
   "cell_type": "markdown",
   "metadata": {},
   "source": [
    "## Load country"
   ]
  },
  {
   "cell_type": "code",
   "execution_count": null,
   "metadata": {},
   "outputs": [],
   "source": [
    "country = gpd.read_file('./geojson/svn_buffered.geojson')\n",
    "country_shape = country.geometry.values.tolist()[-1]\n",
    "country_crs = CRS.WGS84"
   ]
  },
  {
   "cell_type": "code",
   "execution_count": null,
   "metadata": {},
   "outputs": [],
   "source": [
    "number_of_squares = 3\n",
    "bbox_splitter = BBoxSplitter([country_shape], country_crs, (25 * number_of_squares, 17 * number_of_squares))\n",
    "\n",
    "bbox_list = bbox_splitter.get_bbox_list()\n",
    "info_list = bbox_splitter.get_info_list()\n",
    "\n",
    "geometry = [Polygon(bbox.get_polygon()) for bbox in bbox_splitter.bbox_list]\n",
    "idxs_x = [info['index_x'] for info in bbox_splitter.info_list]\n",
    "idxs_y = [info['index_y'] for info in bbox_splitter.info_list]\n",
    "\n",
    "df = pd.DataFrame({'index_x':idxs_x, 'index_y':idxs_y})\n",
    "gdf = gpd.GeoDataFrame(df, crs={'init':CRS.ogc_string(bbox_splitter.bbox_list[0].crs)}, geometry=geometry)"
   ]
  },
  {
   "cell_type": "code",
   "execution_count": null,
   "metadata": {},
   "outputs": [],
   "source": [
    "ids = 1000\n",
    "#figure\n",
    "fig, ax = plt.subplots(figsize=(15, 15))\n",
    "gdf.plot(ax=ax,facecolor='w',edgecolor='r',alpha=0.5)\n",
    "country.plot(ax=ax, facecolor='w',edgecolor='b',alpha=0.5)\n",
    "gdf[ids:ids+1].plot(ax=ax,facecolor='r',edgecolor='r',alpha=0.5)\n",
    "\n",
    "plt.axis('off')"
   ]
  },
  {
   "cell_type": "code",
   "execution_count": null,
   "metadata": {},
   "outputs": [],
   "source": [
    "gdf[10:11]"
   ]
  },
  {
   "cell_type": "markdown",
   "metadata": {},
   "source": [
    "## Get data"
   ]
  },
  {
   "cell_type": "code",
   "execution_count": null,
   "metadata": {
    "scrolled": true
   },
   "outputs": [],
   "source": [
    "get_slovenia_crop_geopedia_idx_to_crop_id_mapping()"
   ]
  },
  {
   "cell_type": "code",
   "execution_count": null,
   "metadata": {},
   "outputs": [],
   "source": [
    "country_name = 'Slovenia'\n",
    "year = 2017\n",
    "out_path = './eopatches'"
   ]
  },
  {
   "cell_type": "code",
   "execution_count": null,
   "metadata": {},
   "outputs": [],
   "source": [
    "workflow_data = get_create_and_add_lpis_workflow(country_name, year, out_path)"
   ]
  },
  {
   "cell_type": "code",
   "execution_count": null,
   "metadata": {},
   "outputs": [],
   "source": [
    "tasks = workflow_data.get_tasks()\n",
    "create = tasks['create']\n",
    "save = tasks['save']"
   ]
  },
  {
   "cell_type": "code",
   "execution_count": null,
   "metadata": {},
   "outputs": [],
   "source": [
    "tasks"
   ]
  },
  {
   "cell_type": "code",
   "execution_count": null,
   "metadata": {},
   "outputs": [],
   "source": [
    "bbox = np.array(bbox_list)[1000]\n",
    "patch_name = 'patch'\n",
    "\n",
    "workflow_data.execute({create:{'bbox':bbox},\n",
    "                    save:{'eopatch_folder':patch_name}\n",
    "                   })"
   ]
  },
  {
   "cell_type": "code",
   "execution_count": null,
   "metadata": {},
   "outputs": [],
   "source": [
    "path_out = str(out_path + '/' + country_name + '/' + str(year))\n",
    "path_of_patch = str(out_path + '/' + country_name + '/' + str(year) + '/' + patch_name)\n",
    "name_of_feature = 'LPIS_2017'"
   ]
  },
  {
   "cell_type": "code",
   "execution_count": null,
   "metadata": {},
   "outputs": [],
   "source": [
    "eopatch = EOPatch.load(path_of_patch)"
   ]
  },
  {
   "cell_type": "code",
   "execution_count": null,
   "metadata": {},
   "outputs": [],
   "source": [
    "eopatch.scalar_timeless['FIELD_AREA_RATIO']"
   ]
  },
  {
   "cell_type": "code",
   "execution_count": null,
   "metadata": {},
   "outputs": [],
   "source": [
    "fields = eopatch.vector_timeless[name_of_feature]"
   ]
  },
  {
   "cell_type": "code",
   "execution_count": null,
   "metadata": {},
   "outputs": [],
   "source": [
    "fields.head(3)"
   ]
  },
  {
   "cell_type": "code",
   "execution_count": null,
   "metadata": {},
   "outputs": [],
   "source": [
    "fig, ax = plt.subplots(figsize=(15, 15))\n",
    "fields.plot(ax=ax,facecolor='b',edgecolor='b',alpha=0.5)"
   ]
  },
  {
   "cell_type": "code",
   "execution_count": null,
   "metadata": {
    "scrolled": true
   },
   "outputs": [],
   "source": [
    "fixlpis = FixLPIS(feature=name_of_feature,country=country_name)\n",
    "patch = fixlpis.execute(eopatch)\n",
    "\n",
    "patch.vector_timeless[name_of_feature].head(3)"
   ]
  },
  {
   "cell_type": "markdown",
   "metadata": {},
   "source": [
    "## Group classes"
   ]
  },
  {
   "cell_type": "code",
   "execution_count": null,
   "metadata": {},
   "outputs": [],
   "source": [
    "slo_crop_def = pd.read_excel('./WP2/SLO_LPIS_grouping.xlsx')"
   ]
  },
  {
   "cell_type": "raw",
   "metadata": {},
   "source": [
    "at_crop_def = pd.read_excel('./WP2/austrian_lpis_sifrant_23_04_2019.xlsx',\n",
    "                            sheet_name='austrian_lpis_sifrant')"
   ]
  },
  {
   "cell_type": "code",
   "execution_count": null,
   "metadata": {},
   "outputs": [],
   "source": [
    "slo_crop_def.rename(index=str, columns={\"Group 1\": \"GROUP_1\", \"SIFKMRS\": \"CROP_ID\"}, inplace=True)"
   ]
  },
  {
   "cell_type": "code",
   "execution_count": null,
   "metadata": {},
   "outputs": [],
   "source": [
    "slo_crop_def['CROP_ID'][99] = '1204'"
   ]
  },
  {
   "cell_type": "code",
   "execution_count": null,
   "metadata": {},
   "outputs": [],
   "source": [
    "slo_crops = slo_crop_def.CROP_ID.values.astype(int)\n",
    "slo_groups = slo_crop_def.GROUP_1.values\n",
    "slo_unique_groups = np.unique(slo_crop_def.GROUP_1.values)"
   ]
  },
  {
   "cell_type": "code",
   "execution_count": null,
   "metadata": {},
   "outputs": [],
   "source": [
    "crops_to_groups = dict(zip(slo_crops, slo_groups))"
   ]
  },
  {
   "cell_type": "code",
   "execution_count": null,
   "metadata": {},
   "outputs": [],
   "source": [
    "groups_to_number =  dict(zip(slo_unique_groups, range(len(slo_unique_groups))))"
   ]
  },
  {
   "cell_type": "code",
   "execution_count": null,
   "metadata": {},
   "outputs": [],
   "source": [
    "crops_to_number = dict(zip(slo_crops, [groups_to_number[i] for i in slo_groups]))"
   ]
  },
  {
   "cell_type": "markdown",
   "metadata": {},
   "source": [
    "## Workflow all"
   ]
  },
  {
   "cell_type": "code",
   "execution_count": null,
   "metadata": {},
   "outputs": [],
   "source": [
    "tasks = workflow_data.get_tasks()\n",
    "create = tasks['create']\n",
    "add_lpis = tasks['add_lpis']\n",
    "area_ratio = tasks[' area_ratio']\n",
    "save = tasks['save']\n",
    "fixlpis = FixLPIS(feature=name_of_feature,country=country_name)\n",
    "\n",
    "add_data = S2L1CWCSInput(\n",
    "    layer='BANDS-S2-L1C', \n",
    "    feature=(FeatureType.DATA, 'bands'),\n",
    "    resx='10m', \n",
    "    resy='10m', \n",
    "    maxcc=0.80,\n",
    "    time_difference=datetime.timedelta(days=1)\n",
    ")"
   ]
  },
  {
   "cell_type": "code",
   "execution_count": null,
   "metadata": {},
   "outputs": [],
   "source": [
    "class AddGroup(EOTask):\n",
    "    def __init__(self, dictionary=crops_to_number, name_of_feature='LPIS_2017'):\n",
    "        self.name_of_feature = name_of_feature\n",
    "        self.dictionary = crops_to_number\n",
    "        \n",
    "    def execute(self, eopatch):\n",
    "        gdf = eopatch.vector_timeless[self.name_of_feature]\n",
    "        gdf['GROUP'] = [crops_to_number[i] for i in gdf.SIFKMRS]\n",
    "        eopatch.vector_timeless[self.name_of_feature] = gdf\n",
    "        return eopatch\n",
    "    \n",
    "add_group = AddGroup()"
   ]
  },
  {
   "cell_type": "code",
   "execution_count": null,
   "metadata": {},
   "outputs": [],
   "source": [
    "rasterize = VectorToRaster(vector_input=(FeatureType.VECTOR_TIMELESS, name_of_feature),\n",
    "                           raster_feature=(FeatureType.MASK_TIMELESS, name_of_feature),\n",
    "                           values=None,\n",
    "                           values_column='GROUP',\n",
    "                           raster_shape=(FeatureType.DATA,'bands'),\n",
    "                           raster_dtype=np.int16,\n",
    "                           no_data_value=np.nan            \n",
    "                          )"
   ]
  },
  {
   "cell_type": "code",
   "execution_count": null,
   "metadata": {},
   "outputs": [],
   "source": [
    "workflow = LinearWorkflow(\n",
    "    create,\n",
    "    add_lpis,\n",
    "    area_ratio,\n",
    "    fixlpis,\n",
    "    add_group,\n",
    "    add_data,\n",
    "    rasterize,\n",
    "    save\n",
    ")"
   ]
  },
  {
   "cell_type": "code",
   "execution_count": null,
   "metadata": {},
   "outputs": [],
   "source": [
    "bbox = np.array(bbox_list)[1000]\n",
    "patch_name = 'patch'\n",
    "time_interval = ['2017-01-01', '2017-12-31'] \n",
    "\n",
    "workflow.execute({create:{'bbox':bbox},\n",
    "                  add_data:{'time_interval': time_interval},\n",
    "                  save:{'eopatch_folder':patch_name}\n",
    "                 })\n",
    "\n",
    "eopatch = EOPatch.load(path_of_patch)"
   ]
  },
  {
   "cell_type": "raw",
   "metadata": {},
   "source": [
    "colors = ['white', \n",
    "          'xkcd:lime',\n",
    "          'xkcd:darkgreen',\n",
    "          'orange',\n",
    "          'xkcd:tan',\n",
    "          'xkcd:azure',\n",
    "          'xkcd:lightblue',\n",
    "          'xkcd:lavender',\n",
    "          'crimson',\n",
    "          'xkcd:beige',\n",
    "          'black'\n",
    "         ]\n",
    "\n",
    "\n"
   ]
  },
  {
   "cell_type": "code",
   "execution_count": null,
   "metadata": {
    "scrolled": false
   },
   "outputs": [],
   "source": [
    "import matplotlib\n",
    "\n",
    "cmap = matplotlib.colors.ListedColormap ( np.random.rand( 23,3))\n",
    "#cmap = matplotlib.colors.ListedColormap(colors)\n",
    "\n",
    "n_time = 5\n",
    "image = np.clip(eopatch.data['bands'][n_time][..., [3, 2, 1]] * 3.5, 0, 1)\n",
    "mask = np.squeeze(eopatch.mask_timeless[name_of_feature])\n",
    "\n",
    "fig, ax0 = plt.subplots(figsize=(15, 15))\n",
    "ax0.imshow(image)\n",
    "ax0.imshow(mask, cmap=cmap, alpha=1)\n"
   ]
  },
  {
   "cell_type": "code",
   "execution_count": null,
   "metadata": {},
   "outputs": [],
   "source": [
    "eopatch"
   ]
  },
  {
   "cell_type": "code",
   "execution_count": null,
   "metadata": {},
   "outputs": [],
   "source": []
  }
 ],
 "metadata": {
  "kernelspec": {
   "display_name": "Python 3",
   "language": "python",
   "name": "python3"
  },
  "language_info": {
   "codemirror_mode": {
    "name": "ipython",
    "version": 3
   },
   "file_extension": ".py",
   "mimetype": "text/x-python",
   "name": "python",
   "nbconvert_exporter": "python",
   "pygments_lexer": "ipython3",
   "version": "3.7.3"
  }
 },
 "nbformat": 4,
 "nbformat_minor": 2
}
