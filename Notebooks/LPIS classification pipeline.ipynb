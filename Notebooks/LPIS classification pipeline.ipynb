{
 "cells": [
  {
   "cell_type": "markdown",
   "metadata": {},
   "source": [
    "# Land Parcel Identification System (LPIS) prediction for Slovenia\n",
    "\n",
    "This notebook shows the steps towards constructing machine learning model for LPIS prediction for Slovenia.\n",
    "\n",
    "### Overview\n",
    "\n",
    "#### Requirements\n",
    "1. Downloaded and processed Sentinel data *(relevant [notebook](https://github.com/sentinel-hub/eo-learn/blob/master/examples/land-cover-map/SI_LULC_pipeline.ipynb))*\n",
    "    * Sentinel-2 data download\n",
    "    * cloud detection and masking\n",
    "    * interpolation    \n",
    "    \n",
    "\n",
    "2. Downloaded and grouped LPIS data *(relevant [notebook](TODO))*\n",
    "    * LPIS data download\n",
    "    * LPIS class grouping \n",
    "    \n",
    "#### Samples construction\n",
    "1. Data sample construction\n",
    "    * edge mask construction\n",
    "    * oversampling\n",
    "2. Feature calculation\n",
    "    * stream feature calculation\n",
    "    * elevation\n",
    "    \n",
    "#### Feature selection and model construction\n",
    "1. Feature selection\n",
    "    * FASTENER\n",
    "2. Model construction\n",
    "    * data normalization\n",
    "    * model training\n",
    "    * model testing\n",
    "3. Model usage\n",
    "    * prediction of LPIS on chosen region\n",
    "\n"
   ]
  },
  {
   "cell_type": "code",
   "execution_count": null,
   "metadata": {},
   "outputs": [],
   "source": [
    "# Firstly, some necessary imports\n",
    "\n",
    "# Jupyter notebook related\n",
    "%reload_ext autoreload\n",
    "%autoreload 2\n",
    "%matplotlib inline\n",
    "\n",
    "import os\n",
    "import numpy as np\n",
    "np.random.seed(42)\n",
    "\n",
    "import matplotlib as mpl\n",
    "\n",
    "# from eolearn.mask import EdgeExtractionTask\n",
    "from edge_extraction import EdgeExtractionTask # Change once it will be in develop\n",
    "\n",
    "from eolearn.core import EOTask, EOPatch, LinearWorkflow, FeatureType, OverwritePermission, \\\n",
    "    LoadTask, SaveTask, EOExecutor\n",
    "from eolearn.io import SentinelHubDemTask\n"
   ]
  },
  {
   "cell_type": "code",
   "execution_count": null,
   "metadata": {},
   "outputs": [],
   "source": [
    "# This tutorial assumes all the patches are saved in current directory in folder Slovenia. You can change this here\n",
    "patches_path = f'{os.path.abspath(os.getcwd())}/Slovenia'"
   ]
  },
  {
   "cell_type": "markdown",
   "metadata": {},
   "source": [
    "## 1. Data sample construction\n",
    "When training the classifier we don't want to include the pixels on the borders of parcels. These pixels are potential mixed-class instances that can have a negative effect on the learning process. So prior to sampling we will construct an timeless mask which excludes the edges. This is already done in an EOTask so we just need to call it.\n",
    "\n",
    "Since we will be classificating crops we will calculate edges based on the NDVI metric and the green band."
   ]
  },
  {
   "cell_type": "code",
   "execution_count": null,
   "metadata": {},
   "outputs": [],
   "source": [
    "class AddNDVIGreenTask(EOTask):\n",
    "    def __init__(nir=7,red=3,green=2):\n",
    "        self.nir = nir\n",
    "        self.red = red\n",
    "        self.green = green\n",
    "        \n",
    "    def execute(self, eopatch):\n",
    "        nir = eopatch.data['BANDS'][..., [self.nir]]\n",
    "        red = eopatch.data['BANDS'][..., [self.red]]\n",
    "        green = eopatch.data['BANDS'][..., [self.green]]\n",
    "\n",
    "        eopatch.add_feature(FeatureType.DATA, 'GREEN', green)\n",
    "        \n",
    "        ndvi = np.clip((nir - red) / (nir + red + 0.000000001), -1, 1)\n",
    "        eopatch.add_feature(FeatureType.DATA, 'NDVI', ndvi)\n",
    "        \n",
    "        return eopatch\n",
    "\n",
    "base = AddNDVIGreenTask()\n",
    "edges = EdgeExtractionTask(features={FeatureType.DATA: ['NDVI', 'GREEN']},\n",
    "                          output_feature=(FeatureType.MASK_TIMELESS)\n",
    "\n",
    "execution_args = []\n",
    "for name,_ in os.walk(patches_path)\n",
    "        execution_args.append({\n",
    "            load: {'eopatch_folder': name},\n",
    "            save: {'eopatch_folder': name}\n",
    "        })\n",
    "load = LoadTask(patches_path)\n",
    "\n",
    "# save_patch_location = patches_path\n",
    "save_patch_location = f'{os.path.abspath(os.getcwd())}/Slovenia2' # #### CHANGE\n",
    "\n",
    "if not os.path.isdir(save_path_location):\n",
    "    os.makedirs(save_path_location)\n",
    "save = SaveTask(save_path_location, overwrite_permission=OverwritePermission.OVERWRITE_PATCH)\n",
    "\n",
    "workflow = LinearWorkflow(load,\n",
    "                         base,\n",
    "                         edges,\n",
    "                         save)\n",
    "\n",
    "executor =  EOExecutor(workflow, execution_args)\n",
    "executor.run(multiprocess=True)\n"
   ]
  },
  {
   "cell_type": "code",
   "execution_count": null,
   "metadata": {},
   "outputs": [],
   "source": [
    "# Visualize the masks\n",
    "images_path = 'Images'\n",
    "if not os.path.isdir(images_path):\n",
    "    os.makedirs(images_path)\n",
    "\n",
    "for name,_ in os.walk(patches_path)\n",
    "    eopatch = load(name,feaures=[(FeatureType.DATA,'BANDS'),(FeatureType.MASK_TIMELESS,'EDGE_INV')"
   ]
  },
  {
   "cell_type": "code",
   "execution_count": null,
   "metadata": {},
   "outputs": [],
   "source": [
    "#Sampling"
   ]
  },
  {
   "cell_type": "markdown",
   "metadata": {},
   "source": [
    "## Stream features calculation\n",
    "From samples we will calculate the stream features.\n",
    "We will also add height of the pixel as one of the features.\n"
   ]
  },
  {
   "cell_type": "code",
   "execution_count": null,
   "metadata": {},
   "outputs": [],
   "source": [
    "dem = SentinelHubDemTask((FeatureType.DATA_TIMELESS, 'DEM'), size=(500, 505))"
   ]
  }
 ],
 "metadata": {
  "celltoolbar": "Raw Cell Format",
  "kernelspec": {
   "display_name": "Python 3",
   "language": "python",
   "name": "python3"
  },
  "language_info": {
   "codemirror_mode": {
    "name": "ipython",
    "version": 3
   },
   "file_extension": ".py",
   "mimetype": "text/x-python",
   "name": "python",
   "nbconvert_exporter": "python",
   "pygments_lexer": "ipython3",
   "version": "3.7.7"
  }
 },
 "nbformat": 4,
 "nbformat_minor": 4
}
