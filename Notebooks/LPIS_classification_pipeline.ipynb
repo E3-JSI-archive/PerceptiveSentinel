{
 "cells": [
  {
   "cell_type": "markdown",
   "metadata": {},
   "source": [
    "# Land Parcel Identification System (LPIS) prediction for Slovenia\n",
    "\n",
    "This notebook shows the steps towards constructing machine learning model for LPIS prediction for Slovenia.\n",
    "\n",
    "### Overview\n",
    "\n",
    "#### Requirements\n",
    "1. Downloaded and processed Sentinel data *(relevant [notebook](https://github.com/sentinel-hub/eo-learn/blob/master/examples/land-cover-map/SI_LULC_pipeline.ipynb))*\n",
    "    * Sentinel-2 data download\n",
    "    * cloud detection and masking\n",
    "    * interpolation    \n",
    "    \n",
    "\n",
    "2. Downloaded and grouped LPIS data *(relevant [notebook](LPISDataFromGeopedija.ipynb))*\n",
    "    * LPIS data download\n",
    "    * LPIS class grouping \n",
    "    \n",
    "#### Samples construction\n",
    "1. Data sample construction\n",
    "    * edge mask construction\n",
    "    * oversampling\n",
    "2. Feature calculation\n",
    "    * stream feature calculation\n",
    "    * elevation\n",
    "    \n",
    "#### Feature selection and model construction\n",
    "1. Feature selection\n",
    "    * FASTENER\n",
    "2. Model construction\n",
    "    * data normalization\n",
    "    * model training\n",
    "    * model testing\n",
    "3. Model usage\n",
    "    * prediction of LPIS on chosen region\n",
    "\n"
   ]
  },
  {
   "cell_type": "code",
   "execution_count": 9,
   "metadata": {},
   "outputs": [],
   "source": [
    "# Firstly, some necessary imports\n",
    "import os\n",
    "import numpy as np\n",
    "import pandas as pd\n",
    "\n",
    "seed = 42\n",
    "np.random.seed(seed)\n",
    "\n",
    "import matplotlib.pyplot as plt\n",
    "import matplotlib.colors as colors\n",
    "import matplotlib.patches as mpatches\n",
    "import matplotlib\n",
    "\n",
    "from sklearn.model_selection import train_test_split\n",
    "from sklearn.preprocessing import StandardScaler\n",
    "from sklearn.metrics import accuracy_score, f1_score, confusion_matrix, plot_confusion_matrix\n",
    "from joblib import dump, load\n",
    "from sklearn import tree\n",
    "from collections import Counter\n",
    "\n",
    "# from eolearn.mask import EdgeExtractionTask\n",
    "# from eolearn.geometry import BalancedClassSampler, BalancedClassSamplerTask\n",
    "from notebook_temporary.edge_extraction import EdgeExtractionTask  # Change once it will be in develop\n",
    "from notebook_temporary.sampling import BalancedClassSampler, \\\n",
    "    BalancedClassSamplerTask  # Change once it will be in develop\n",
    "from notebook_temporary.temporal_features import ValeroWorkflow\n",
    "\n",
    "from eolearn.core import EOTask, EOPatch, LinearWorkflow, FeatureType, OverwritePermission, \\\n",
    "    LoadTask, SaveTask, EOExecutor\n",
    "from eolearn.io import SentinelHubDemTask\n"
   ]
  },
  {
   "cell_type": "markdown",
   "metadata": {},
   "source": [
    "## Samples construction\n",
    "\n",
    "### Edge mask calculation\n",
    "When training the classifier we don't want to include the pixels on the borders of parcels. These pixels are potential mixed-class instances that can have a negative effect on the learning process. So prior to sampling we will construct an timeless mask which excludes the edges. This is already done in an EOTask so we just need to call it.\n",
    "\n",
    "Since we will be classificating crops we will calculate edges based on the NDVI metric and the green band. Along those, let's calculate all the metrics that we will be needing later which are the other base bands red, blue, NIR (Near infra red) and the vegetation related indices NIR, ARVI, EVI, NDVI, NDWI, SIPI and SAVI."
   ]
  },
  {
   "cell_type": "code",
   "execution_count": 2,
   "metadata": {},
   "outputs": [],
   "source": [
    "class AddBaseFeatures(EOTask):\n",
    "\n",
    "    def __init__(self, c1=6, c2=7.5, L=1, Lvar=0.5, delta=10 ** -10):\n",
    "        self.c1 = c1\n",
    "        self.c2 = c2\n",
    "        self.L = L\n",
    "        self.Lvar = Lvar\n",
    "\n",
    "        # We add a small number that doesn't significantly change the result to avoid divisions by zero\n",
    "        self.delta = delta\n",
    "\n",
    "    def execute(self, eopatch):\n",
    "        nir = eopatch.data['BANDS'][..., [7]]\n",
    "        blue = eopatch.data['BANDS'][..., [1]]\n",
    "        red = eopatch.data['BANDS'][..., [3]]\n",
    "        eopatch.add_feature(FeatureType.DATA, 'NIR', nir)\n",
    "        eopatch.add_feature(FeatureType.DATA, 'BLUE', blue)\n",
    "        eopatch.add_feature(FeatureType.DATA, 'RED', red)\n",
    "\n",
    "        arvi = np.clip((nir - (2 * red) + blue) / (nir + (2 * red) + blue + self.delta), -1, 1)\n",
    "        eopatch.add_feature(FeatureType.DATA, 'ARVI', arvi)\n",
    "\n",
    "        evi = np.clip(2.5 * ((nir - red) / (nir + (self.c1 * red) - (self.c2 * blue) + self.L + self.delta)), -1, 1)\n",
    "        eopatch.add_feature(FeatureType.DATA, 'EVI', evi)\n",
    "\n",
    "        ndvi = np.clip((nir - red) / (nir + red + self.delta), -1, 1)\n",
    "        eopatch.add_feature(FeatureType.DATA, 'NDVI', ndvi)\n",
    "\n",
    "        ndwi = np.clip((blue - red) / (blue + red + self.delta), -1, 1)\n",
    "        eopatch.add_feature(FeatureType.DATA, 'NDWI', ndwi)\n",
    "\n",
    "        sipi = np.clip((nir - blue) / (nir - red + self.delta), 0, 2)\n",
    "        eopatch.add_feature(FeatureType.DATA, 'SIPI', sipi)\n",
    "\n",
    "        savi = np.clip(((nir - red) / (nir + red + self.Lvar + self.delta)) * (1 + self.Lvar), -1, 1)\n",
    "        eopatch.add_feature(FeatureType.DATA, 'SAVI', savi)\n",
    "\n",
    "        return eopatch"
   ]
  },
  {
   "cell_type": "code",
   "execution_count": 3,
   "metadata": {},
   "outputs": [
    {
     "data": {
      "application/vnd.jupyter.widget-view+json": {
       "model_id": "ecefaea6c8074063b6e571c67082bced",
       "version_major": 2,
       "version_minor": 0
      },
      "text/plain": [
       "HBox(children=(IntProgress(value=0, max=3), HTML(value='')))"
      ]
     },
     "metadata": {},
     "output_type": "display_data"
    },
    {
     "name": "stdout",
     "output_type": "stream",
     "text": [
      "\n"
     ]
    }
   ],
   "source": [
    "base = AddBaseFeatures()\n",
    "edges = EdgeExtractionTask(features={FeatureType.DATA: ['NDVI', 'BLUE']})\n",
    "\n",
    "# This tutorial assumes all the patches are saved in current directory in folder patches. You can change this here\n",
    "patches_path = r'D:\\Users\\Beno\\PycharmProjects\\PerceptiveSentinel\\Notebooks\\test_folder'\n",
    "# save_patch_location = patches_path\n",
    "# save_path = f'{os.path.abspath(os.getcwd())}/patches_output'\n",
    "##### ijs team: sentinel patchi za tesirat: E:\\Data\\PerceptiveSentinel\\SVN_Interpolated2\n",
    "# save_path = patches_path\n",
    "save_path = patches_path + os.sep + \"out_patches\"\n",
    "load = LoadTask(patches_path)\n",
    "if not os.path.isdir(save_path):\n",
    "    os.makedirs(save_path)\n",
    "save = SaveTask(save_path, overwrite_permission=OverwritePermission.OVERWRITE_PATCH)\n",
    "\n",
    "execution_args = []\n",
    "for name in next(os.walk(patches_path))[1]:\n",
    "    execution_args.append({\n",
    "        load: {'eopatch_folder': name},\n",
    "        save: {'eopatch_folder': name}\n",
    "    })\n",
    "\n",
    "workflow = LinearWorkflow(load,\n",
    "                          base,\n",
    "                          edges,\n",
    "                          save)\n",
    "\n",
    "executor = EOExecutor(workflow, execution_args)\n",
    "executor.run(multiprocess=True)"
   ]
  },
  {
   "cell_type": "code",
   "execution_count": 4,
   "metadata": {},
   "outputs": [
    {
     "ename": "IndexError",
     "evalue": "list index out of range",
     "output_type": "error",
     "traceback": [
      "\u001b[1;31m---------------------------------------------------------------------------\u001b[0m",
      "\u001b[1;31mIndexError\u001b[0m                                Traceback (most recent call last)",
      "\u001b[1;32m<ipython-input-4-2042e05091a8>\u001b[0m in \u001b[0;36m<module>\u001b[1;34m\u001b[0m\n\u001b[0;32m      1\u001b[0m \u001b[1;31m# Visualize the mask\u001b[0m\u001b[1;33m\u001b[0m\u001b[1;33m\u001b[0m\u001b[1;33m\u001b[0m\u001b[0m\n\u001b[0;32m      2\u001b[0m \u001b[1;33m\u001b[0m\u001b[0m\n\u001b[1;32m----> 3\u001b[1;33m \u001b[0mpatch_name\u001b[0m \u001b[1;33m=\u001b[0m \u001b[0mnext\u001b[0m\u001b[1;33m(\u001b[0m\u001b[0mos\u001b[0m\u001b[1;33m.\u001b[0m\u001b[0mwalk\u001b[0m\u001b[1;33m(\u001b[0m\u001b[0msave_path\u001b[0m\u001b[1;33m)\u001b[0m\u001b[1;33m)\u001b[0m\u001b[1;33m[\u001b[0m\u001b[1;36m1\u001b[0m\u001b[1;33m]\u001b[0m\u001b[1;33m[\u001b[0m\u001b[1;36m0\u001b[0m\u001b[1;33m]\u001b[0m\u001b[1;33m\u001b[0m\u001b[1;33m\u001b[0m\u001b[0m\n\u001b[0m\u001b[0;32m      4\u001b[0m \u001b[0meopatch\u001b[0m \u001b[1;33m=\u001b[0m \u001b[0mEOPatch\u001b[0m\u001b[1;33m.\u001b[0m\u001b[0mload\u001b[0m\u001b[1;33m(\u001b[0m\u001b[1;34mf'{save_path}/{patch_name}'\u001b[0m\u001b[1;33m)\u001b[0m\u001b[1;33m\u001b[0m\u001b[1;33m\u001b[0m\u001b[0m\n\u001b[0;32m      5\u001b[0m \u001b[1;33m\u001b[0m\u001b[0m\n",
      "\u001b[1;31mIndexError\u001b[0m: list index out of range"
     ]
    }
   ],
   "source": [
    "# Visualize the mask\n",
    "\n",
    "patch_name = next(os.walk(save_path))[1][0]\n",
    "eopatch = EOPatch.load(f'{save_path}/{patch_name}')\n",
    "\n",
    "edges = eopatch.mask_timeless['EDGES_INV'].squeeze()\n",
    "img = np.clip(eopatch.data['BANDS'][10][..., [3, 2, 1]] * 3.5, 0, 1)\n",
    "\n",
    "plt.figure(figsize=(18, 9))\n",
    "plt.subplot(121)\n",
    "plt.imshow(img)\n",
    "plt.subplot(122)\n",
    "plt.imshow(edges, cmap='gray')\n",
    "plt.show()"
   ]
  },
  {
   "cell_type": "markdown",
   "metadata": {},
   "source": [
    "### Sampling\n",
    "We don't want to train a classifier on every point as earth observation data can be very large and thus unfeasible. In this step we will choose a sample of the area. The properties of a sample should be that it is taken from all region uniformly and because we are training a classifier we want to have each class represented equally. This can be done with the BalancedClassSampler task. We will also exclude the the edge regions we calculated before to have a \"clean\" sample."
   ]
  },
  {
   "cell_type": "code",
   "execution_count": 20,
   "metadata": {},
   "outputs": [
    {
     "name": "stdout",
     "output_type": "stream",
     "text": [
      "{10: 4, 6: 16, 12: 90, 9: 92, 8: 97, 11: 104, 14: 120, 4: 149, 7: 518, 3: 722, 1: 3018, 13: 4494, 2: 5137, 0: 10689}\n",
      "{10: 26, 6: 80, 9: 92, 11: 104, 7: 518, 12: 668, 3: 722, 8: 756, 14: 871, 4: 931, 1: 3018, 13: 4494, 2: 5137, 0: 10689}\n",
      "    LPIS_2017_G2 patch_identifier    x    y\n",
      "0              0       test_patch  427  359\n",
      "1              0       test_patch  461  465\n",
      "2              0       test_patch  367  181\n",
      "3              0       test_patch  475  416\n",
      "4              0       test_patch  142  151\n",
      "..           ...              ...  ...  ...\n",
      "359           10       test_patch  477  196\n",
      "360           10       test_patch  477  199\n",
      "361           10       test_patch  478  200\n",
      "362           10       test_patch  479  201\n",
      "363           10       test_patch  476  200\n",
      "\n",
      "[364 rows x 4 columns]\n"
     ]
    }
   ],
   "source": [
    "class_feature = (FeatureType.MASK_TIMELESS, 'LPIS_2017_G2')\n",
    "sampler = BalancedClassSampler(class_feature=class_feature,\n",
    "                               valid_mask=(FeatureType.MASK_TIMELESS, 'EDGES_INV'),\n",
    "                               seed=seed)\n",
    "sampler.sample_folder(save_path, lazy_loading=True)\n",
    "distribution = sampler.get_prior_class_distribution()\n",
    "\n",
    "# sorting so we can easier see which classes are less represented\n",
    "distribution = {k: v for k, v in sorted(distribution.items(), key=lambda item: item[1])}\n",
    "\n",
    "# Lets display what was sampled\n",
    "print(distribution)\n",
    "\n",
    "# We can try to increase the smallest samples classes by sampling again and this time specifying which classes\n",
    "# are weak to do additional sampling around them once encountered\n",
    "sampler2 = BalancedClassSampler(class_feature=class_feature,\n",
    "                               valid_mask=(FeatureType.MASK_TIMELESS, 'EDGES_INV'),\n",
    "                               seed=seed,\n",
    "                               weak_classes=[10, 6, 12, 8, 14, 4])\n",
    "sampler2.sample_folder(save_path, lazy_loading=True)\n",
    "distribution2 = sampler2.get_prior_class_distribution()\n",
    "distribution2 = {k: v for k, v in sorted(distribution2.items(), key=lambda item: item[1])}\n",
    "print(distribution2)\n",
    "\n",
    "# Final samples\n",
    "samples = sampler2.get_balanced_data()\n",
    "print(samples)"
   ]
  },
  {
   "cell_type": "markdown",
   "metadata": {},
   "source": [
    "## Stream features calculation\n",
    "As we didn't have stream features calculated for all data we will now compute neccesary stream features for only the points that we decided on with sampling in previous step.\n",
    "We will also add height of the pixel as one of the features."
   ]
  },
  {
   "cell_type": "code",
   "execution_count": 22,
   "metadata": {},
   "outputs": [
    {
     "name": "stdout",
     "output_type": "stream",
     "text": [
      "test_patch\n",
      "505 500\n"
     ]
    }
   ],
   "source": [
    "# Assumes all the patches have same shape\n",
    "\n",
    "\n",
    "# For each patch that contains any samples we will construct mask to specify where the stream\n",
    "# features are computer. We don't want to compute them for the whole patch as it would take a long time\n",
    "patches = next(os.walk(save_path))[1]\n",
    "\n",
    "# Separate points by patch. Patch identifier is by default it's folder name\n",
    "separated_by_patch = [(x, samples[samples['patch_identifier'] == x]) for x in patches]\n",
    "execution_args = []\n",
    "height = None\n",
    "width = None\n",
    "for name, points in separated_by_patch:\n",
    "    \n",
    "    print(name)\n",
    "    eopatch = EOPatch.load(f'{save_path}/{name}')\n",
    "    height, width, _ = eopatch[class_feature].shape\n",
    "    print(height, width)\n",
    "    #continue\n",
    "    stream_mask = np.zeros((height, width), dtype=bool)\n",
    "    for x, y in zip(points['x'], points['y']):\n",
    "        stream_mask[x, y] = True\n",
    "\n",
    "    eopatch.add_feature(FeatureType.MASK_TIMELESS, 'STREAM_VALID', stream_mask[..., np.newaxis])\n",
    "    eopatch.save(f'{save_path}/{name}', overwrite_permission=OverwritePermission.OVERWRITE_PATCH)"
   ]
  },
  {
   "cell_type": "code",
   "execution_count": null,
   "metadata": {},
   "outputs": [
    {
     "name": "stdout",
     "output_type": "stream",
     "text": [
      "(<FeatureType.DATA: 'data'>, 'ARVI')\n",
      "(<FeatureType.DATA: 'data'>, 'ARVI') 123\n",
      "(<FeatureType.DATA: 'data'>, 'EVI')\n",
      "(<FeatureType.DATA: 'data'>, 'EVI') 123\n",
      "(<FeatureType.DATA: 'data'>, 'NDVI')\n",
      "(<FeatureType.DATA: 'data'>, 'NDVI') 123\n",
      "(<FeatureType.DATA: 'data'>, 'NDWI')\n",
      "(<FeatureType.DATA: 'data'>, 'NDWI') 123\n",
      "(<FeatureType.DATA: 'data'>, 'SIPI')\n",
      "(<FeatureType.DATA: 'data'>, 'SIPI') 123\n",
      "(<FeatureType.DATA: 'data'>, 'SAVI')\n",
      "(<FeatureType.DATA: 'data'>, 'SAVI') 123\n",
      "(<FeatureType.DATA: 'data'>, 'BLUE')\n",
      "(<FeatureType.DATA: 'data'>, 'BLUE') 123\n",
      "(<FeatureType.DATA: 'data'>, 'GREEN')\n",
      "(<FeatureType.DATA: 'data'>, 'GREEN') 123\n",
      "(<FeatureType.DATA: 'data'>, 'RED')\n",
      "(<FeatureType.DATA: 'data'>, 'RED') 123\n",
      "(<FeatureType.DATA: 'data'>, 'NIR')\n",
      "(<FeatureType.DATA: 'data'>, 'NIR') 123\n",
      "test_patch\n"
     ]
    },
    {
     "data": {
      "application/vnd.jupyter.widget-view+json": {
       "model_id": "20bd8193d795490f92d3b103b972eb9e",
       "version_major": 2,
       "version_minor": 0
      },
      "text/plain": [
       "HBox(children=(IntProgress(value=0, max=1), HTML(value='')))"
      ]
     },
     "metadata": {},
     "output_type": "display_data"
    },
    {
     "name": "stdout",
     "output_type": "stream",
     "text": [
      "After rolling\n",
      "Derivative\n",
      "Finished\n",
      "After rolling\n",
      "Derivative\n",
      "Finished\n",
      "After rolling\n",
      "Derivative\n"
     ]
    }
   ],
   "source": [
    "###### TODO Filip\n",
    "# Za testirat lahko uporabiš te patche: E:\\Data\\PerceptiveSentinel\\SVN_Interpolated2\n",
    "# Skopiraj kodo ko bo v `notebook_temporary` folder\n",
    "\n",
    "base_features = [\"ARVI\", \"EVI\", \"NDVI\", \"NDWI\", \"SIPI\", \"SAVI\", \"BLUE\", \"RED\", \"NIR\"]\n",
    "tasks = [ValeroWorkflow(feature_name, valid_mask_feature=(FeatureType.MASK_TIMELESS, 'STREAM_VALID')) for feature_name in base_features]\n",
    "all_stream_feature_names = [n for s_task in tasks for n in s_task.feature_list()]  # 'NDVI_max_mean', 'NDVI_slope' .....\n",
    "##### TODO Filip\n",
    "load = LoadTask(save_path)\n",
    "save = SaveTask(save_path, overwrite_permission=OverwritePermission.OVERWRITE_PATCH)\n",
    "execution_args = []\n",
    "for name in next(os.walk(save_path))[1]:\n",
    "    execution_args.append({\n",
    "        load: {'eopatch_folder': name},\n",
    "        save: {'eopatch_folder': name}\n",
    "    })\n",
    "    print(name)\n",
    "\n",
    "# This tasks adds elevation data to the patch\n",
    "dem = SentinelHubDemTask((FeatureType.DATA_TIMELESS, 'DEM'), size=(height, width))\n",
    "workflow = LinearWorkflow(load, \n",
    "                          #dem, \n",
    "                          *tasks, \n",
    "                          save\n",
    "                         )\n",
    "executor = EOExecutor(workflow, execution_args, save_logs=True)\n",
    "executor.run(multiprocess=True)"
   ]
  },
  {
   "cell_type": "code",
   "execution_count": null,
   "metadata": {},
   "outputs": [],
   "source": []
  },
  {
   "cell_type": "code",
   "execution_count": null,
   "metadata": {},
   "outputs": [],
   "source": [
    "# Once the stream features are calculated we just need to put them into the format suitable for feature selection\n",
    "# we need to contruct a pandas DataFrame with column names of features and the class name. Each row represents a single point\n",
    "extended_samples = []\n",
    "for name, points in separated_by_patch:\n",
    "    eopatch = EOPatch.load(f'{save_path}/{name}', lazy_loading=True)\n",
    "    for x, y in zip(points['x'], points['y']):\n",
    "        point_data = [(class_feature[1], eopatch[class_feature][x, y, 0])] \\\n",
    "                     + [(f, eopatch.data_timeless[f][x, y].squeeze()) for f in all_stream_feature_names]\n",
    "        extended_samples.append(dict(point_data))\n",
    "extended_samples = pd.DataFrame(extended_samples)"
   ]
  },
  {
   "cell_type": "code",
   "execution_count": null,
   "metadata": {},
   "outputs": [],
   "source": [
    "extended_samples"
   ]
  },
  {
   "cell_type": "markdown",
   "metadata": {},
   "source": [
    "## Feature selection and model construction\n",
    "The features will be chosen using the FASTENER algorithm\n",
    "## TODO filip"
   ]
  },
  {
   "cell_type": "code",
   "execution_count": null,
   "metadata": {},
   "outputs": [],
   "source": [
    "selected_features = FASTENER(extended_samples) ###### TODO FILIP"
   ]
  },
  {
   "cell_type": "markdown",
   "metadata": {},
   "source": [
    "### Model construction\n",
    "Once we have final samples with selected only the best features we can train a model."
   ]
  },
  {
   "cell_type": "code",
   "execution_count": 10,
   "metadata": {},
   "outputs": [
    {
     "name": "stdout",
     "output_type": "stream",
     "text": [
      "f1: 0.6936154588018159\n"
     ]
    },
    {
     "data": {
      "image/png": "[encoded data removed]",
      "text/plain": [
       "<Figure size 432x288 with 2 Axes>"
      ]
     },
     "metadata": {
      "needs_background": "light"
     },
     "output_type": "display_data"
    }
   ],
   "source": [
    "extended_samples = pd.read_csv('D:/Samples/review.csv')\n",
    "selected_features = ['DEM', 'ARVI_max_mean_len', 'BLUE_max_mean_surf', 'BLUE_mean_val', 'BLUE_neg_surf']\n",
    "model = tree.DecisionTreeClassifier()\n",
    "y = extended_samples['LPIS_2017'].to_numpy()\n",
    "x = extended_samples[selected_features].to_numpy()\n",
    "x_train, x_test, y_train, y_test = train_test_split(x, y, test_size=0.25)\n",
    "sc = StandardScaler()\n",
    "x_train = sc.fit_transform(x_train)\n",
    "x_test = sc.transform(x_test)\n",
    "\n",
    "model.fit(x_train, y_train)\n",
    "y_pred = model.predict(x_test)\n",
    "labels = Counter(extended_samples['LPIS_2017']).keys()\n",
    "no_classes = range(len(labels))\n",
    "fig, ax = plt.subplots()\n",
    "ax.set_ylim(bottom=0.14, top=0)\n",
    "plot_confusion_matrix(model, x_test, y_test, labels=no_classes,\n",
    "                      display_labels=labels,\n",
    "                      cmap='viridis',\n",
    "                      include_values=False,\n",
    "                      xticks_rotation='vertical',\n",
    "                      normalize='pred',\n",
    "                      ax=ax)\n",
    "f1 = f1_score(y_test, y_pred, labels=no_classes, average='macro')\n",
    "print(f'f1: {f1}')\n",
    "plt.show()"
   ]
  },
  {
   "cell_type": "markdown",
   "metadata": {},
   "source": [
    "### Model usage on a sample region\n",
    "All the features that we choose with FASTENER need to be computed"
   ]
  },
  {
   "cell_type": "code",
   "execution_count": 13,
   "metadata": {},
   "outputs": [
    {
     "name": "stdout",
     "output_type": "stream",
     "text": [
      "(<FeatureType.DATA: 'data'>, 'ARVI')\n",
      "(<FeatureType.DATA: 'data'>, 'ARVI') 123\n",
      "(<FeatureType.DATA: 'data'>, 'EVI')\n",
      "(<FeatureType.DATA: 'data'>, 'EVI') 123\n",
      "(<FeatureType.DATA: 'data'>, 'NDVI')\n",
      "(<FeatureType.DATA: 'data'>, 'NDVI') 123\n",
      "(<FeatureType.DATA: 'data'>, 'NDWI')\n",
      "(<FeatureType.DATA: 'data'>, 'NDWI') 123\n",
      "(<FeatureType.DATA: 'data'>, 'SIPI')\n",
      "(<FeatureType.DATA: 'data'>, 'SIPI') 123\n",
      "(<FeatureType.DATA: 'data'>, 'SAVI')\n",
      "(<FeatureType.DATA: 'data'>, 'SAVI') 123\n",
      "(<FeatureType.DATA: 'data'>, 'BLUE')\n",
      "(<FeatureType.DATA: 'data'>, 'BLUE') 123\n",
      "(<FeatureType.DATA: 'data'>, 'GREEN')\n",
      "(<FeatureType.DATA: 'data'>, 'GREEN') 123\n",
      "(<FeatureType.DATA: 'data'>, 'RED')\n",
      "(<FeatureType.DATA: 'data'>, 'RED') 123\n",
      "(<FeatureType.DATA: 'data'>, 'NIR')\n",
      "(<FeatureType.DATA: 'data'>, 'NIR') 123\n"
     ]
    },
    {
     "ename": "NameError",
     "evalue": "name 'dem' is not defined",
     "output_type": "error",
     "traceback": [
      "\u001b[1;31m---------------------------------------------------------------------------\u001b[0m",
      "\u001b[1;31mNameError\u001b[0m                                 Traceback (most recent call last)",
      "\u001b[1;32m<ipython-input-13-4d4df4b18c58>\u001b[0m in \u001b[0;36m<module>\u001b[1;34m\u001b[0m\n\u001b[0;32m     11\u001b[0m \u001b[0msave\u001b[0m \u001b[1;33m=\u001b[0m \u001b[0mSaveTask\u001b[0m\u001b[1;33m(\u001b[0m\u001b[0mpatches\u001b[0m\u001b[1;33m,\u001b[0m \u001b[0meopatch_folder\u001b[0m\u001b[1;33m=\u001b[0m\u001b[0mpatch_name\u001b[0m\u001b[1;33m,\u001b[0m \u001b[0moverwrite_permission\u001b[0m\u001b[1;33m=\u001b[0m\u001b[0mOverwritePermission\u001b[0m\u001b[1;33m.\u001b[0m\u001b[0mOVERWRITE_PATCH\u001b[0m\u001b[1;33m)\u001b[0m\u001b[1;33m\u001b[0m\u001b[1;33m\u001b[0m\u001b[0m\n\u001b[0;32m     12\u001b[0m workflow = LinearWorkflow(load,\n\u001b[1;32m---> 13\u001b[1;33m                           \u001b[0mdem\u001b[0m\u001b[1;33m,\u001b[0m\u001b[1;33m\u001b[0m\u001b[1;33m\u001b[0m\u001b[0m\n\u001b[0m\u001b[0;32m     14\u001b[0m                           \u001b[1;33m*\u001b[0m\u001b[0mtasks\u001b[0m\u001b[1;33m,\u001b[0m\u001b[1;33m\u001b[0m\u001b[1;33m\u001b[0m\u001b[0m\n\u001b[0;32m     15\u001b[0m                           save)\n",
      "\u001b[1;31mNameError\u001b[0m: name 'dem' is not defined"
     ]
    }
   ],
   "source": [
    "###### TODO Filip praktično isti klic kot zgoraj, samo da je maska IS_VALID namesto STREAM_VALID\n",
    "### ubistvu se kliče samo tiste, ki so potrebni, glede na to kar je vrnu FASTENER\n",
    "base_features = [\"ARVI\", \"EVI\", \"NDVI\", \"NDWI\", \"SIPI\", \"SAVI\", \"BLUE\", \"GREEN\", \"RED\", \"NIR\"]\n",
    "tasks = [ValeroWorkflow(feature_name) for feature_name in base_features]\n",
    "all_stream_feature_names = [n for s_task in tasks for n in s_task.feature_list()]  # 'NDVI_max_mean', 'NDVI_slope' .....\n",
    "\n",
    "##### TODO Filip\n",
    "\n",
    "patch_name = next(os.walk(patches_path))[1][0]\n",
    "load = LoadTask(patches, eopatch_folder=patch_name)\n",
    "save = SaveTask(patches, eopatch_folder=patch_name, overwrite_permission=OverwritePermission.OVERWRITE_PATCH)\n",
    "workflow = LinearWorkflow(load,\n",
    "                          dem,\n",
    "                          *tasks,\n",
    "                          save)"
   ]
  },
  {
   "cell_type": "markdown",
   "metadata": {},
   "source": [
    "Next we need to arrange the features in the same way as we used to when training the model so they can be processed."
   ]
  },
  {
   "cell_type": "code",
   "execution_count": null,
   "metadata": {},
   "outputs": [],
   "source": [
    "eopatch = EOPatch.load('D:/Users/Beno/PycharmProjects/PerceptiveSentinel/Notebooks/test_patch')\n",
    "\n",
    "t, width, height, _ = eopatch.data['BANDS'].shape\n",
    "\n",
    "x_patch = np.zeros((height * width, len(fastener_features)))\n",
    "i = 0\n",
    "for w in range(width):\n",
    "    for h in range(height):\n",
    "        x_patch[i] = [float(eopatch.data_timeless[f][w][h][0]) for f in fastener_features]\n",
    "        i += 1\n",
    "\n",
    "lpis = eopatch.mask_timeless['LPIS_2017'].squeeze()\n",
    "y_pred_patch = model.predict(x_patch)\n",
    "\n",
    "# reshape back to original shape\n",
    "img = np.reshape(y_pred_patch, (width, height))"
   ]
  },
  {
   "cell_type": "code",
   "execution_count": null,
   "metadata": {},
   "outputs": [],
   "source": [
    "# Color scheme for coloring the classes and legend\n",
    "new_classes = {0: ('Not Farmland', 'xkcd:black'),\n",
    "               1: ('Grass', 'xkcd:brown'),\n",
    "               2: ('Maize', 'xkcd:butter'),\n",
    "               3: ('Orchards', 'xkcd:royal purple'),\n",
    "               4: ('Other', 'xkcd:white'),\n",
    "               5: ('Peas', 'xkcd:spring green'),\n",
    "               6: ('Potatoes', 'xkcd:poo'),\n",
    "               7: ('Pumpkins', 'xkcd:pumpkin'),\n",
    "               8: ('Soybean', 'xkcd:baby green'),\n",
    "               9: ('Summer cereals', 'xkcd:cool blue'),\n",
    "               10: ('Sun flower', 'xkcd:piss yellow'),\n",
    "               11: ('Vegetables', 'xkcd:bright pink'),\n",
    "               12: ('Vineyards', 'xkcd:grape'),\n",
    "               13: ('Winter cereals', 'xkcd:ice blue'),\n",
    "               14: ('Winter rape', 'xkcd:neon blue')}\n",
    "\n",
    "names = []\n",
    "boundaries = np.zeros(15)\n",
    "for i in range(15):\n",
    "    names.append(new_classes[i][1])\n",
    "    boundaries[i] = i - 0.5\n",
    "# colormap to color with specified colors\n",
    "cmap = matplotlib.colors.ListedColormap(names)\n",
    "# boundaries used for color map\n",
    "norm = colors.BoundaryNorm(boundaries, cmap.N, clip=True)"
   ]
  },
  {
   "cell_type": "code",
   "execution_count": null,
   "metadata": {},
   "outputs": [],
   "source": [
    "plt.figure(dpi=150, figsize=(12, 12))\n",
    "plt.title('Predicted')\n",
    "#add_legend(plt)\n",
    "plt.imshow(img, cmap=cmap, norm=norm)\n",
    "\n",
    "plt.figure(dpi=150, figsize=(12, 12))\n",
    "plt.title('LPIS_2017')\n",
    "#add_legend(plt)\n",
    "plt.imshow(lpis, cmap=cmap, norm=norm)\n",
    "plt.show()"
   ]
  },
  {
   "cell_type": "code",
   "execution_count": null,
   "metadata": {},
   "outputs": [],
   "source": []
  },
  {
   "cell_type": "code",
   "execution_count": null,
   "metadata": {},
   "outputs": [],
   "source": []
  },
  {
   "cell_type": "code",
   "execution_count": null,
   "metadata": {},
   "outputs": [],
   "source": []
  }
 ],
 "metadata": {
  "celltoolbar": "Raw Cell Format",
  "kernelspec": {
   "display_name": "Python 3",
   "language": "python",
   "name": "python3"
  },
  "language_info": {
   "codemirror_mode": {
    "name": "ipython",
    "version": 3
   },
   "file_extension": ".py",
   "mimetype": "text/x-python",
   "name": "python",
   "nbconvert_exporter": "python",
   "pygments_lexer": "ipython3",
   "version": "3.7.7"
  }
 },
 "nbformat": 4,
 "nbformat_minor": 4
}
