{
 "cells": [
  {
   "cell_type": "markdown",
   "metadata": {},
   "source": [
    "# Land Parcel Identification System (LPIS) prediction for Slovenia\n",
    "\n",
    "This notebook shows the steps towards constructing machine learning model for LPIS prediction for Slovenia.\n",
    "\n",
    "### Overview\n",
    "\n",
    "#### Requirements\n",
    "1. Downloaded and processed Sentinel data *(relevant [notebook](https://github.com/sentinel-hub/eo-learn/blob/master/examples/land-cover-map/SI_LULC_pipeline.ipynb))*\n",
    "    * Sentinel-2 data download\n",
    "    * cloud detection and masking\n",
    "    * interpolation    \n",
    "    \n",
    "\n",
    "2. Downloaded and grouped LPIS data *(relevant [notebook](LPISDataFromGeopedija.ipynb))*\n",
    "    * LPIS data download\n",
    "    * LPIS class grouping \n",
    "    \n",
    "#### Samples construction\n",
    "1. Data sample construction\n",
    "    * edge mask construction\n",
    "    * oversampling\n",
    "2. Feature calculation\n",
    "    * stream feature calculation\n",
    "    * elevation\n",
    "    \n",
    "#### Feature selection and model construction\n",
    "1. Feature selection\n",
    "    * FASTENER\n",
    "2. Model construction\n",
    "    * data normalization\n",
    "    * model training\n",
    "    * model testing\n",
    "3. Model usage\n",
    "    * prediction of LPIS on chosen region\n",
    "\n"
   ]
  },
  {
   "cell_type": "code",
   "execution_count": 2,
   "metadata": {},
   "outputs": [
    {
     "name": "stderr",
     "output_type": "stream",
     "text": [
      "C:\\Users\\bsircelj\\.conda\\envs\\eolearn\\lib\\site-packages\\pywt\\_utils.py:6: DeprecationWarning: Using or importing the ABCs from 'collections' instead of from 'collections.abc' is deprecated since Python 3.3,and in 3.9 it will stop working\n",
      "  from collections import Iterable\n"
     ]
    }
   ],
   "source": [
    "# Firstly, some necessary imports\n",
    "\n",
    "# Jupyter notebook related\n",
    "%reload_ext autoreload\n",
    "%autoreload 2\n",
    "%matplotlib inline\n",
    "\n",
    "import os\n",
    "import numpy as np\n",
    "np.random.seed(42)\n",
    "\n",
    "import matplotlib as mpl\n",
    "\n",
    "# from eolearn.mask import EdgeExtractionTask\n",
    "# from eolearn.geometry import BalancedClassSampler, BalancedClassSamplerTask\n",
    "from notebook_temporary.edge_extraction import EdgeExtractionTask # Change once it will be in develop\n",
    "from notebook_temporary.sampling import BalancedClassSampler, BalancedClassSamplerTask # Change once it will be in develop\n",
    "\n",
    "from eolearn.core import EOTask, EOPatch, LinearWorkflow, FeatureType, OverwritePermission, \\\n",
    "    LoadTask, SaveTask, EOExecutor\n",
    "from eolearn.io import SentinelHubDemTask\n"
   ]
  },
  {
   "cell_type": "code",
   "execution_count": 4,
   "metadata": {},
   "outputs": [],
   "source": [
    "# This tutorial assumes all the patches are saved in current directory in folder patches. You can change this here\n",
    "patches_path = f'{os.path.abspath(os.getcwd())}/patches'"
   ]
  },
  {
   "cell_type": "markdown",
   "metadata": {},
   "source": [
    "## 1. Data sample construction\n",
    "When training the classifier we don't want to include the pixels on the borders of parcels. These pixels are potential mixed-class instances that can have a negative effect on the learning process. So prior to sampling we will construct an timeless mask which excludes the edges. This is already done in an EOTask so we just need to call it.\n",
    "\n",
    "Since we will be classificating crops we will calculate edges based on the NDVI metric and the green band."
   ]
  },
  {
   "cell_type": "code",
   "execution_count": null,
   "metadata": {},
   "outputs": [],
   "source": [
    "class AddBaseFeatures(EOTask):\n",
    "\n",
    "    def __init__(self, c1=6, c2=7.5, L=1, delta = 10**-10):\n",
    "        self.c1 = c1\n",
    "        self.c2 = c2\n",
    "        self.L = L\n",
    "        # We add a small number that doesn't significantly change the result to avoid divisions by zero\n",
    "        self.delta = delta\n",
    "\n",
    "    def execute(self, eopatch):\n",
    "        nir = eopatch.data['BANDS'][..., [7]]\n",
    "        eopatch.add_feature(FeatureType.DATA, 'NIR', nir)\n",
    "        blue = eopatch.data['BANDS'][..., [1]]\n",
    "        red = eopatch.data['BANDS'][..., [3]]\n",
    "\n",
    "        arvi = np.clip((nir - (2 * red) + blue) / (nir + (2 * red) + blue + self.delta), -1, 1)\n",
    "        eopatch.add_feature(FeatureType.DATA, 'ARVI', arvi)\n",
    "\n",
    "        evi = np.clip(2.5 * ((nir - red) / (nir + (self.c1 * red) - (self.c2 * blue) + self.L + self.delta)), -1, 1)\n",
    "        eopatch.add_feature(FeatureType.DATA, 'EVI', evi)\n",
    "        \n",
    "        ndvi = np.clip((nir - red) / (nir + red + self.delta), -1, 1)\n",
    "        eopatch.add_feature(FeatureType.DATA, 'NDVI', ndvi)\n",
    "        \n",
    "        band_a = eopatch.data['BANDS'][..., 1]\n",
    "        band_b = eopatch.data['BANDS'][..., 3]\n",
    "        ndwi = np.clip((band_a - band_b) / (band_a + band_b + self.delta), -1, 1)\n",
    "        eopatch.add_feature(FeatureType.DATA, 'NDWI', ndwi[..., np.newaxis])\n",
    "\n",
    "        sipi = np.clip((nir - blue) / (nir - red + self.delta), 0, 2)  # TODO nekako boljše to rešit division by 0\n",
    "        eopatch.add_feature(FeatureType.DATA, 'SIPI', sipi)\n",
    "\n",
    "        Lvar = 0.5\n",
    "        savi = np.clip(((nir - red) / (nir + red + Lvar + self.delta)) * (1 + Lvar), -1, 1)\n",
    "        eopatch.add_feature(FeatureType.DATA, 'SAVI', savi)\n",
    "\n",
    "        return eopatch"
   ]
  },
  {
   "cell_type": "code",
   "execution_count": 5,
   "metadata": {},
   "outputs": [
    {
     "ename": "SyntaxError",
     "evalue": "invalid syntax (<ipython-input-5-df89f6468cc0>, line 23)",
     "output_type": "error",
     "traceback": [
      "\u001b[1;36m  File \u001b[1;32m\"<ipython-input-5-df89f6468cc0>\"\u001b[1;36m, line \u001b[1;32m23\u001b[0m\n\u001b[1;33m    execution_args = []\u001b[0m\n\u001b[1;37m                 ^\u001b[0m\n\u001b[1;31mSyntaxError\u001b[0m\u001b[1;31m:\u001b[0m invalid syntax\n"
     ]
    }
   ],
   "source": [
    "base = AddNDVIGreenTask()\n",
    "edges = EdgeExtractionTask(features={FeatureType.DATA: ['NDVI', 'GREEN']},\n",
    "                          output_feature=(FeatureType.MASK_TIMELESS)\n",
    "\n",
    "execution_args = []\n",
    "for name,_ in os.walk(patches_path)\n",
    "        execution_args.append({\n",
    "            load: {'eopatch_folder': name},\n",
    "            save: {'eopatch_folder': name}\n",
    "        })\n",
    "load = LoadTask(patches_path)\n",
    "\n",
    "# save_patch_location = patches_path\n",
    "save_patch_location = f'{os.path.abspath(os.getcwd())}/Slovenia2' # #### CHANGE\n",
    "\n",
    "if not os.path.isdir(save_path_location):\n",
    "    os.makedirs(save_path_location)\n",
    "save = SaveTask(save_path_location, overwrite_permission=OverwritePermission.OVERWRITE_PATCH)\n",
    "\n",
    "workflow = LinearWorkflow(load,\n",
    "                         base,\n",
    "                         edges,\n",
    "                         save)\n",
    "\n",
    "executor =  EOExecutor(workflow, execution_args)\n",
    "executor.run(multiprocess=True)\n"
   ]
  },
  {
   "cell_type": "code",
   "execution_count": null,
   "metadata": {},
   "outputs": [],
   "source": [
    "# Visualize the masks\n",
    "images_path = 'Images'\n",
    "if not os.path.isdir(images_path):\n",
    "    os.makedirs(images_path)\n",
    "\n",
    "for name,_ in os.walk(patches_path)\n",
    "    eopatch = load(name,feaures=[(FeatureType.DATA,'BANDS'),(FeatureType.MASK_TIMELESS,'EDGE_INV')"
   ]
  },
  {
   "cell_type": "code",
   "execution_count": null,
   "metadata": {},
   "outputs": [],
   "source": [
    "#Sampling"
   ]
  },
  {
   "cell_type": "markdown",
   "metadata": {},
   "source": [
    "## Stream features calculation\n",
    "From samples we will calculate the stream features.\n",
    "We will also add height of the pixel as one of the features.\n"
   ]
  },
  {
   "cell_type": "code",
   "execution_count": null,
   "metadata": {},
   "outputs": [],
   "source": [
    "dem = SentinelHubDemTask((FeatureType.DATA_TIMELESS, 'DEM'), size=(500, 505))"
   ]
  }
 ],
 "metadata": {
  "celltoolbar": "Raw Cell Format",
  "kernelspec": {
   "display_name": "Python 3",
   "language": "python",
   "name": "python3"
  },
  "language_info": {
   "codemirror_mode": {
    "name": "ipython",
    "version": 3
   },
   "file_extension": ".py",
   "mimetype": "text/x-python",
   "name": "python",
   "nbconvert_exporter": "python",
   "pygments_lexer": "ipython3",
   "version": "3.7.7"
  }
 },
 "nbformat": 4,
 "nbformat_minor": 4
}
