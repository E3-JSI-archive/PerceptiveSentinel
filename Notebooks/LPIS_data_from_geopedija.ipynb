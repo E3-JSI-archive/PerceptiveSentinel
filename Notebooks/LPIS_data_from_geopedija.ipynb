{
 "cells": [
  {
   "cell_type": "markdown",
   "metadata": {},
   "source": [
    "# LPIS data for Slovenia\n",
    "In this notebook we will look at necessary steps to downoad and process the LPIS data for Slovenija. We will prepare multiple EOTasks that will be later run all in the same workflow.\n",
    "\n",
    "## Requirements\n",
    "* patch with bbox and at least one data feature which is used to match dimensions with LPIS mask *(relevant [notebook](https://github.com/sentinel-hub/eo-learn/blob/master/examples/land-cover-map/SI_LULC_pipeline.ipynb))*\n",
    "\n",
    "## Steps\n",
    "* Loading and saving of patches\n",
    "* Adding LPIS vector feature from geopedija\n",
    "* Calculating area ratio feature\n",
    "* Fixing some known LPIS mistakes\n",
    "* Defining final clustered groups rematching the labels\n",
    "* Transforming LPIS vector mask to raster mask\n",
    "* Visualization of result\n",
    "\n"
   ]
  },
  {
   "cell_type": "code",
   "execution_count": null,
   "metadata": {},
   "outputs": [],
   "source": [
    "%reload_ext autoreload\n",
    "%autoreload 2\n",
    "%matplotlib inline"
   ]
  },
  {
   "cell_type": "code",
   "execution_count": null,
   "metadata": {},
   "outputs": [],
   "source": [
    "import numpy as np\n",
    "import pandas as pd\n",
    "import sys\n",
    "from eolearn.core import EOTask, LinearWorkflow, FeatureType, OverwritePermission, \\\n",
    "    LoadTask, SaveTask, EOExecutor, EOPatch\n",
    "from eolearn.geometry import VectorToRaster\n",
    "import os\n",
    "import matplotlib.colors as colors\n",
    "import matplotlib.pyplot as plt\n",
    "import matplotlib.patches as mpatches\n",
    "from matplotlib.font_manager import FontProperties\n",
    "\n",
    "# This should be included somewhere else\n",
    "from notebook_temporary.tasks import FixLPIS, CreatePatch, AddGeopediaVectorFeature, AddAreaRatio\n",
    "\n",
    "\n",
    "# LPIS layer id-s needed to download\n",
    "GEOPEDIA_LPIS_LAYERS = {'Denmark_LPIS_2018': 2051,\n",
    "                        'Denmark_LPIS_2017': 2051,\n",
    "                        'Denmark_LPIS_2016': 2051,\n",
    "                        'Austria_LPIS_2017': 2034,\n",
    "                        'Austria_LPIS_2016': 2033,\n",
    "                        'Slovenia_LPIS_2017': 2038,\n",
    "                        'Slovenia_LPIS_2016': 2037,\n",
    "                        'Austria_FELDSTUECKE_2017': 2029,\n",
    "                        'Austria_FELDSTUECKE_2016': 2027}"
   ]
  },
  {
   "cell_type": "markdown",
   "metadata": {},
   "source": [
    "### Loading and saving of the patches\n",
    "Change the `input_path` and `save_path` to where you have your patches saved and where you want to save the result if it is not in the same folder"
   ]
  },
  {
   "cell_type": "code",
   "execution_count": null,
   "metadata": {},
   "outputs": [],
   "source": [
    "input_path = f'{os.getcwd()}/patches'\n",
    "save_path = input_path\n",
    "year = 2017\n",
    "country = 'Slovenia'\n",
    "load = LoadTask(input_path)\n",
    "if not os.path.isdir(save_path):\n",
    "    os.makedirs(save_path)\n",
    "save = SaveTask(save_path, overwrite_permission=OverwritePermission.OVERWRITE_PATCH)"
   ]
  },
  {
   "cell_type": "markdown",
   "metadata": {},
   "source": [
    "### Tasks for downloading LPIS"
   ]
  },
  {
   "cell_type": "code",
   "execution_count": null,
   "metadata": {},
   "outputs": [],
   "source": [
    "# Adding LPIS vector feature from geopedija\n",
    "layer_id = GEOPEDIA_LPIS_LAYERS[f'{country}_LPIS_{year}']\n",
    "name_of_feature = f'LPIS_{year}'\n",
    "add_lpis = AddGeopediaVectorFeature((FeatureType.VECTOR_TIMELESS, name_of_feature),\n",
    "                                    layer=layer_id, year_filter=('LETO', year), drop_duplicates=True)\n",
    "\n",
    "# This task adds a timeless scalar feature that tells how much of the area is the chosen feature. This is used for excluding\n",
    "# patches with no or small amount of data.\n",
    "area_ratio = AddAreaRatio((FeatureType.VECTOR_TIMELESS, name_of_feature),\n",
    "                          (FeatureType.SCALAR_TIMELESS, 'FIELD_AREA_RATIO'))\n",
    "\n",
    "# Fixes some known mistakes such as non integer indices\n",
    "fixlpis = FixLPIS(feature=name_of_feature, country=country)"
   ]
  },
  {
   "cell_type": "markdown",
   "metadata": {},
   "source": [
    "### Defining final clustered groups and renaming the labels\n",
    "There is about 170 different crop types in Slovenia. A lot of those classes are really similar to eachother so it makes sense to join them. In following excel file there are proposed two groupings. Group 1 consists of 24 classes and Group 2 consists of 13 classes. In this example will be using the Group 2."
   ]
  },
  {
   "cell_type": "code",
   "execution_count": null,
   "metadata": {},
   "outputs": [],
   "source": [
    "class AddGroup(EOTask):\n",
    "    def __init__(self, dictionary, name_of_feature='LPIS_2017'):\n",
    "        self.name_of_feature = name_of_feature\n",
    "        self.dictionary = dictionary\n",
    "\n",
    "    def execute(self, eopatch):\n",
    "        gdf = eopatch.vector_timeless[self.name_of_feature]\n",
    "        gdf['GROUP'] = [self.dictionary[i] for i in gdf.SIFKMRS]\n",
    "        eopatch.vector_timeless[self.name_of_feature] = gdf\n",
    "        return eopatch"
   ]
  },
  {
   "cell_type": "code",
   "execution_count": null,
   "metadata": {},
   "outputs": [],
   "source": [
    "slo_grouping = pd.read_excel(f'{os.getcwd()}/notebook_temporary/SLO_LPIS_grouping.xlsx')\n",
    "slo_grouping.rename(index=str, columns={\"Group 2\": \"GROUP_2\", \"SIFKMRS\": \"CROP_ID\"}, inplace=True)\n",
    "slo_grouping['CROP_ID'][99] = '1204'\n",
    "crop_ids = slo_grouping.CROP_ID.values.astype(int)\n",
    "group_ids = slo_grouping.GROUP_2.values\n",
    "unique_groups = np.unique(slo_grouping.GROUP_2.values)\n",
    "groups_to_number = dict(zip(unique_groups, range(len(unique_groups))))\n",
    "crops_to_number = dict(zip(crop_ids, [groups_to_number[i] + 1 for i in group_ids]))\n",
    "\n",
    "add_group = AddGroup(crops_to_number, name_of_feature)"
   ]
  },
  {
   "cell_type": "markdown",
   "metadata": {},
   "source": [
    "### Transforming LPIS vector mask to raster mask\n"
   ]
  },
  {
   "cell_type": "code",
   "execution_count": null,
   "metadata": {},
   "outputs": [],
   "source": [
    "rasterize = VectorToRaster(vector_input=(FeatureType.VECTOR_TIMELESS, name_of_feature),\n",
    "                           raster_feature=(FeatureType.MASK_TIMELESS, name_of_feature),\n",
    "                           values=None,\n",
    "                           values_column='GROUP',\n",
    "                           raster_shape=(FeatureType.DATA, 'BANDS'),\n",
    "                           raster_dtype=np.int16,\n",
    "                           no_data_value=0\n",
    "                           )"
   ]
  },
  {
   "cell_type": "markdown",
   "metadata": {},
   "source": [
    "### Whole workflow\n",
    "Because the AddGeopediaVectorFeature doesn't save anything if the patch doesn't contain any LPIS data the steps area_ratio fixlpis and rasterize should not be executed in those cases as it would only come to an error. Because of this we define another custom task that either runs the extra tasks or saves a LPIS mask with every point set to 0 which stands for `Not Farmland`."
   ]
  },
  {
   "cell_type": "code",
   "execution_count": null,
   "metadata": {},
   "outputs": [],
   "source": [
    "class WorkflowExclude(EOTask):\n",
    "    def __init__(self, *extra_tasks, feature='LPIS_2017', feature_type=FeatureType.VECTOR_TIMELESS):\n",
    "        self.feature = feature\n",
    "        self.feature_type = feature_type\n",
    "        self.extra_tasks = extra_tasks\n",
    "\n",
    "    def execute(self, eopatch):\n",
    "        if self.feature not in eopatch[self.feature_type]:\n",
    "            bands = next(iter(eopatch.data))\n",
    "            fet = np.zeros(bands[0, :, :, 0].shape, dtype=np.int8)\n",
    "            eopatch.add_feature(FeatureType.MASK_TIMELESS, self.feature, fet[..., np.newaxis])\n",
    "            return eopatch\n",
    "        for t in self.extra_tasks:\n",
    "            eopatch = t(eopatch)\n",
    "        return eopatch"
   ]
  },
  {
   "cell_type": "code",
   "execution_count": null,
   "metadata": {},
   "outputs": [],
   "source": [
    "exclude = WorkflowExclude(area_ratio, fixlpis, add_group, rasterize)\n",
    "\n",
    "workflow = LinearWorkflow(\n",
    "    load,\n",
    "    add_lpis,\n",
    "    exclude,\n",
    "    save\n",
    ")\n",
    "execution_args = []\n",
    "\n",
    "for patch_names in next(os.walk(input_path))[1]:\n",
    "    execution_args.append({\n",
    "        load: {'eopatch_folder': patch_names},\n",
    "        save: {'eopatch_folder': patch_names}\n",
    "    })\n",
    "executor = EOExecutor(workflow, execution_args)\n",
    "executor.run()"
   ]
  },
  {
   "cell_type": "markdown",
   "metadata": {},
   "source": [
    "### Visualization of result"
   ]
  },
  {
   "cell_type": "code",
   "execution_count": null,
   "metadata": {},
   "outputs": [],
   "source": [
    "# Group indices with its name and chosen color\n",
    "group_colors = {0: ('Not Farmland', 'xkcd:black'),\n",
    "                1: ('Grass', 'xkcd:green'),\n",
    "                2: ('Maize', 'xkcd:butter'),\n",
    "                3: ('Orchards', 'xkcd:red'),\n",
    "                4: ('Other', 'xkcd:white'),\n",
    "                5: ('Peas', 'xkcd:spring green'),\n",
    "                6: ('Potatoes', 'xkcd:poo'),\n",
    "                7: ('Pumpkins', 'xkcd:pumpkin'),\n",
    "                8: ('Soybean', 'xkcd:baby green'),\n",
    "                9: ('Summer cereals', 'xkcd:cool blue'),\n",
    "                10: ('Sun flower', 'xkcd:piss yellow'),\n",
    "                11: ('Vegetables', 'xkcd:bright pink'),\n",
    "                12: ('Vineyards', 'xkcd:grape'),\n",
    "                13: ('Winter cereals', 'xkcd:ice blue'),\n",
    "                14: ('Winter rape', 'xkcd:neon blue')}"
   ]
  },
  {
   "cell_type": "markdown",
   "metadata": {},
   "source": [
    "### Legend\n",
    "For legend we need to create handles and labels to be included with the image. The colors used are defined above."
   ]
  },
  {
   "cell_type": "code",
   "execution_count": null,
   "metadata": {},
   "outputs": [],
   "source": [
    "names = []\n",
    "boundaries = np.zeros(len(group_colors))\n",
    "for i in range(len(group_colors)):\n",
    "    names.append(group_colors[i][1])\n",
    "    boundaries[i] = i - 0.5\n",
    "cmap = colors.ListedColormap(names)\n",
    "norm = colors.BoundaryNorm(boundaries, cmap.N, clip=True)\n",
    "    \n",
    "handles = []\n",
    "labels = []\n",
    "for i in range(len(group_colors)):\n",
    "    patch = mpatches.Patch(color=group_colors[i][1], label=group_colors[i][0])\n",
    "    labels.append(group_colors[i][0])\n",
    "    handles.append(patch)"
   ]
  },
  {
   "cell_type": "markdown",
   "metadata": {},
   "source": [
    "### Plotting along the true color image"
   ]
  },
  {
   "cell_type": "code",
   "execution_count": null,
   "metadata": {},
   "outputs": [],
   "source": [
    "patch_name = next(os.walk(input_path))[1][0]\n",
    "eopatch = EOPatch.load(f'{save_path}/{patch_name}')\n",
    "lpis = eopatch.mask_timeless[name_of_feature].squeeze()\n",
    "img = np.clip(eopatch.data['BANDS'][10][..., [3, 2, 1]] * 3.5, 0, 1)\n",
    "\n",
    "handles = []\n",
    "labels = []\n",
    "for i in range(len(group_colors)):\n",
    "    patch = mpatches.Patch(color=group_colors[i][1], label=group_colors[i][0])\n",
    "    labels.append(group_colors[i][0])\n",
    "    handles.append(patch)\n",
    "\n",
    "plt.figure(figsize=(10, 20))\n",
    "plt.subplot(211)\n",
    "plt.imshow(img)\n",
    "plt.subplot(212)\n",
    "plt.legend(handles, labels)\n",
    "plt.imshow(lpis, cmap=cmap, norm=norm)\n",
    "plt.show()"
   ]
  }
 ],
 "metadata": {
  "kernelspec": {
   "display_name": "Python 3",
   "language": "python",
   "name": "python3"
  },
  "language_info": {
   "codemirror_mode": {
    "name": "ipython",
    "version": 3
   },
   "file_extension": ".py",
   "mimetype": "text/x-python",
   "name": "python",
   "nbconvert_exporter": "python",
   "pygments_lexer": "ipython3",
   "version": "3.7.7"
  }
 },
 "nbformat": 4,
 "nbformat_minor": 2
}
