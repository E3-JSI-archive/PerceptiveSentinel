{
 "cells": [
  {
   "cell_type": "markdown",
   "metadata": {},
   "source": [
    "# Monitoring of forest fires in Amazon rain forest"
   ]
  },
  {
   "cell_type": "markdown",
   "metadata": {},
   "source": [
    "In this notebook, we see the comparison of the Hoeffding tree and the Decision tree in the monitoring of forest fires. We show that the Hoeffging tree algorithm gives comparable results to the Decision tree algorithm.\n",
    "\n",
    "Both models were trained with data gathered with semi-supervised learning."
   ]
  },
  {
   "cell_type": "code",
   "execution_count": null,
   "metadata": {},
   "outputs": [],
   "source": [
    "import numpy as np\n",
    "from matplotlib import pyplot as plt\n",
    "from matplotlib import animation\n",
    "\n",
    "from IPython.display import HTML"
   ]
  },
  {
   "cell_type": "code",
   "execution_count": null,
   "metadata": {},
   "outputs": [],
   "source": [
    "image = np.load('data_files/images.npy')\n",
    "predicted_hoeffding = np.load('data_files/fire_prediction_hoeffding.npy')\n",
    "predicted_decission = np.load('data_files/fire_prediction_decission_tree.npy')\n",
    "time = np.load('data_files/time.npy')"
   ]
  },
  {
   "cell_type": "markdown",
   "metadata": {},
   "source": [
    "## Monitoring with Hoeffding tree"
   ]
  },
  {
   "cell_type": "code",
   "execution_count": null,
   "metadata": {},
   "outputs": [],
   "source": [
    "fig, (ax0, ax1) = plt.subplots(1, 2, figsize=(10, 5))\n",
    "\n",
    "fig.subplots_adjust(left=0, bottom=0, right=1, top=1, wspace=None, hspace=None)\n",
    "#line, = ax.plot([], [], lw=2)\n",
    "a = predicted_hoeffding[1]\n",
    "b = image[1]\n",
    "im0 = ax0.imshow(a, interpolation='none')\n",
    "im1 = ax1.imshow(a, interpolation='none')\n",
    "\n",
    "ax0.axis('off')\n",
    "ax1.axis('off')\n",
    "\n",
    "def init():\n",
    "    a=predicted_hoeffding[0]\n",
    "    fig.suptitle(str(time[0]))\n",
    "    \n",
    "    im0.set_array(a)\n",
    "    \n",
    "    b = image[1]\n",
    "    im1.set_array(b)\n",
    "    \n",
    "    return [im0, im1]\n",
    "\n",
    "def animate(i):\n",
    "    a = predicted_hoeffding[:i+1].max(axis=0)\n",
    "    #a = predicted_hoeffding[i]\n",
    "    fig.suptitle(str(time[i]))\n",
    "    \n",
    "    im0.set_array(a)\n",
    "    \n",
    "    b = image[i]\n",
    "    im1.set_array(b)\n",
    "    \n",
    "    return [im0, im1]\n",
    "\n",
    "# call the animator.  blit=True means only re-draw the parts that have changed.\n",
    "anim = animation.FuncAnimation(fig, animate, init_func=init,\n",
    "                               frames=len(image), interval=1000, blit=True)\n",
    "\n",
    "#anim.save('animation2.mp4', fps=3)\n",
    "\n",
    "HTML(anim.to_html5_video(embed_limit=20))"
   ]
  },
  {
   "cell_type": "markdown",
   "metadata": {},
   "source": [
    "## Monitoring with Decision tree"
   ]
  },
  {
   "cell_type": "code",
   "execution_count": null,
   "metadata": {},
   "outputs": [],
   "source": [
    "fig, (ax0, ax1) = plt.subplots(1, 2, figsize=(10, 5))\n",
    "\n",
    "fig.subplots_adjust(left=0, bottom=0, right=1, top=1, wspace=None, hspace=None)\n",
    "#line, = ax.plot([], [], lw=2)\n",
    "a = predicted_decission[1]\n",
    "b = image[1]\n",
    "im0 = ax0.imshow(a, interpolation='none')\n",
    "im1 = ax1.imshow(a, interpolation='none')\n",
    "\n",
    "ax0.axis('off')\n",
    "ax1.axis('off')\n",
    "\n",
    "def init():\n",
    "    a=predicted_decission[0]\n",
    "    fig.suptitle(str(time[0]))\n",
    "    \n",
    "    im0.set_array(a)\n",
    "    \n",
    "    b = image[1]\n",
    "    im1.set_array(b)\n",
    "    \n",
    "    return [im0, im1]\n",
    "\n",
    "def animate(i):\n",
    "    a = predicted_decission[:i+1].max(axis=0)\n",
    "    #a = predicted_decission[i]\n",
    "    fig.suptitle(str(time[i]))\n",
    "    \n",
    "    im0.set_array(a)\n",
    "    \n",
    "    b = image[i]\n",
    "    im1.set_array(b)\n",
    "    \n",
    "    return [im0, im1]\n",
    "\n",
    "# call the animator.  blit=True means only re-draw the parts that have changed.\n",
    "anim = animation.FuncAnimation(fig, animate, init_func=init,\n",
    "                               frames=len(image), interval=1000, blit=True)\n",
    "\n",
    "#anim.save('animation2.mp4', fps=3)\n",
    "\n",
    "HTML(anim.to_html5_video(embed_limit=20))"
   ]
  },
  {
   "cell_type": "code",
   "execution_count": null,
   "metadata": {},
   "outputs": [],
   "source": []
  }
 ],
 "metadata": {
  "kernelspec": {
   "display_name": "Python 3",
   "language": "python",
   "name": "python3"
  },
  "language_info": {
   "codemirror_mode": {
    "name": "ipython",
    "version": 3
   },
   "file_extension": ".py",
   "mimetype": "text/x-python",
   "name": "python",
   "nbconvert_exporter": "python",
   "pygments_lexer": "ipython3",
   "version": "3.7.3"
  }
 },
 "nbformat": 4,
 "nbformat_minor": 2
}
